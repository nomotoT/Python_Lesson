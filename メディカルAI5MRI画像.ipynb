{
  "nbformat": 4,
  "nbformat_minor": 0,
  "metadata": {
    "colab": {
      "name": "メディカルAI5MRI画像.ipynb",
      "version": "0.3.2",
      "provenance": [],
      "collapsed_sections": [],
      "include_colab_link": true
    },
    "kernelspec": {
      "name": "python3",
      "display_name": "Python 3"
    },
    "accelerator": "GPU"
  },
  "cells": [
    {
      "cell_type": "markdown",
      "metadata": {
        "id": "view-in-github",
        "colab_type": "text"
      },
      "source": [
        "<a href=\"https://colab.research.google.com/github/nomotoT/Python_Lesson/blob/master/%E3%83%A1%E3%83%87%E3%82%A3%E3%82%AB%E3%83%ABAI5MRI%E7%94%BB%E5%83%8F.ipynb\" target=\"_parent\"><img src=\"https://colab.research.google.com/assets/colab-badge.svg\" alt=\"Open In Colab\"/></a>"
      ]
    },
    {
      "metadata": {
        "id": "4R6oP-Waoszr",
        "colab_type": "text"
      },
      "cell_type": "markdown",
      "source": [
        "5. 実践編: MRI画像のセグメンテーション"
      ]
    },
    {
      "metadata": {
        "id": "50lIgeWMpGfZ",
        "colab_type": "code",
        "colab": {
          "base_uri": "https://localhost:8080/",
          "height": 1720
        },
        "outputId": "e33a9a77-8516-4606-e14a-e4921650f2e2"
      },
      "cell_type": "code",
      "source": [
        "# Google Colaboの情報\n",
        "!cat /proc/cpuinfo\n",
        "!cat /proc/meminfo"
      ],
      "execution_count": 20,
      "outputs": [
        {
          "output_type": "stream",
          "text": [
            "processor\t: 0\n",
            "vendor_id\t: GenuineIntel\n",
            "cpu family\t: 6\n",
            "model\t\t: 63\n",
            "model name\t: Intel(R) Xeon(R) CPU @ 2.30GHz\n",
            "stepping\t: 0\n",
            "microcode\t: 0x1\n",
            "cpu MHz\t\t: 2300.000\n",
            "cache size\t: 46080 KB\n",
            "physical id\t: 0\n",
            "siblings\t: 2\n",
            "core id\t\t: 0\n",
            "cpu cores\t: 1\n",
            "apicid\t\t: 0\n",
            "initial apicid\t: 0\n",
            "fpu\t\t: yes\n",
            "fpu_exception\t: yes\n",
            "cpuid level\t: 13\n",
            "wp\t\t: yes\n",
            "flags\t\t: fpu vme de pse tsc msr pae mce cx8 apic sep mtrr pge mca cmov pat pse36 clflush mmx fxsr sse sse2 ss ht syscall nx pdpe1gb rdtscp lm constant_tsc rep_good nopl xtopology nonstop_tsc cpuid tsc_known_freq pni pclmulqdq ssse3 fma cx16 pcid sse4_1 sse4_2 x2apic movbe popcnt aes xsave avx f16c rdrand hypervisor lahf_lm abm invpcid_single pti ssbd ibrs ibpb stibp fsgsbase tsc_adjust bmi1 avx2 smep bmi2 erms invpcid xsaveopt arat arch_capabilities\n",
            "bugs\t\t: cpu_meltdown spectre_v1 spectre_v2 spec_store_bypass l1tf\n",
            "bogomips\t: 4600.00\n",
            "clflush size\t: 64\n",
            "cache_alignment\t: 64\n",
            "address sizes\t: 46 bits physical, 48 bits virtual\n",
            "power management:\n",
            "\n",
            "processor\t: 1\n",
            "vendor_id\t: GenuineIntel\n",
            "cpu family\t: 6\n",
            "model\t\t: 63\n",
            "model name\t: Intel(R) Xeon(R) CPU @ 2.30GHz\n",
            "stepping\t: 0\n",
            "microcode\t: 0x1\n",
            "cpu MHz\t\t: 2300.000\n",
            "cache size\t: 46080 KB\n",
            "physical id\t: 0\n",
            "siblings\t: 2\n",
            "core id\t\t: 0\n",
            "cpu cores\t: 1\n",
            "apicid\t\t: 1\n",
            "initial apicid\t: 1\n",
            "fpu\t\t: yes\n",
            "fpu_exception\t: yes\n",
            "cpuid level\t: 13\n",
            "wp\t\t: yes\n",
            "flags\t\t: fpu vme de pse tsc msr pae mce cx8 apic sep mtrr pge mca cmov pat pse36 clflush mmx fxsr sse sse2 ss ht syscall nx pdpe1gb rdtscp lm constant_tsc rep_good nopl xtopology nonstop_tsc cpuid tsc_known_freq pni pclmulqdq ssse3 fma cx16 pcid sse4_1 sse4_2 x2apic movbe popcnt aes xsave avx f16c rdrand hypervisor lahf_lm abm invpcid_single pti ssbd ibrs ibpb stibp fsgsbase tsc_adjust bmi1 avx2 smep bmi2 erms invpcid xsaveopt arat arch_capabilities\n",
            "bugs\t\t: cpu_meltdown spectre_v1 spectre_v2 spec_store_bypass l1tf\n",
            "bogomips\t: 4600.00\n",
            "clflush size\t: 64\n",
            "cache_alignment\t: 64\n",
            "address sizes\t: 46 bits physical, 48 bits virtual\n",
            "power management:\n",
            "\n",
            "MemTotal:       13335268 kB\n",
            "MemFree:         8442148 kB\n",
            "MemAvailable:   12307388 kB\n",
            "Buffers:           73216 kB\n",
            "Cached:          3775580 kB\n",
            "SwapCached:            0 kB\n",
            "Active:           853004 kB\n",
            "Inactive:        3632192 kB\n",
            "Active(anon):     383396 kB\n",
            "Inactive(anon):    79192 kB\n",
            "Active(file):     469608 kB\n",
            "Inactive(file):  3553000 kB\n",
            "Unevictable:           0 kB\n",
            "Mlocked:               0 kB\n",
            "SwapTotal:             0 kB\n",
            "SwapFree:              0 kB\n",
            "Dirty:               444 kB\n",
            "Writeback:             0 kB\n",
            "AnonPages:        636408 kB\n",
            "Mapped:           497816 kB\n",
            "Shmem:             79744 kB\n",
            "Slab:             207876 kB\n",
            "SReclaimable:     167040 kB\n",
            "SUnreclaim:        40836 kB\n",
            "KernelStack:        3872 kB\n",
            "PageTables:         7004 kB\n",
            "NFS_Unstable:          0 kB\n",
            "Bounce:                0 kB\n",
            "WritebackTmp:          0 kB\n",
            "CommitLimit:     6667632 kB\n",
            "Committed_AS:    2375708 kB\n",
            "VmallocTotal:   34359738367 kB\n",
            "VmallocUsed:           0 kB\n",
            "VmallocChunk:          0 kB\n",
            "AnonHugePages:         0 kB\n",
            "ShmemHugePages:        0 kB\n",
            "ShmemPmdMapped:        0 kB\n",
            "HugePages_Total:       0\n",
            "HugePages_Free:        0\n",
            "HugePages_Rsvd:        0\n",
            "HugePages_Surp:        0\n",
            "Hugepagesize:       2048 kB\n",
            "DirectMap4k:      180212 kB\n",
            "DirectMap2M:     7159808 kB\n",
            "DirectMap1G:     8388608 kB\n"
          ],
          "name": "stdout"
        }
      ]
    },
    {
      "metadata": {
        "id": "3ecam4kyoC5b",
        "colab_type": "code",
        "colab": {
          "base_uri": "https://localhost:8080/",
          "height": 490
        },
        "outputId": "e4aeb0a3-575f-4649-ffcc-7dcc667d3db4"
      },
      "cell_type": "code",
      "source": [
        "!curl https://colab.chainer.org/install | sh -  # ChainerとCuPyのインストール\n",
        "!pip install chainercv matplotlib               # ChainerCVとmatplotlibのインストール"
      ],
      "execution_count": 21,
      "outputs": [
        {
          "output_type": "stream",
          "text": [
            "  % Total    % Received % Xferd  Average Speed   Time    Time     Time  Current\n",
            "                                 Dload  Upload   Total   Spent    Left  Speed\n",
            "\r  0     0    0     0    0     0      0      0 --:--:-- --:--:-- --:--:--     0\r100  1373  100  1373    0     0   3889      0 --:--:-- --:--:-- --:--:--  3889\n",
            "+ apt -y -q install cuda-libraries-dev-9-2\n",
            "Reading package lists...\n",
            "Building dependency tree...\n",
            "Reading state information...\n",
            "cuda-libraries-dev-9-2 is already the newest version (9.2.148-1).\n",
            "0 upgraded, 0 newly installed, 0 to remove and 4 not upgraded.\n",
            "+ pip install -q cupy-cuda92  chainer \n",
            "+ set +ex\n",
            "Installation succeeded!\n",
            "Requirement already satisfied: chainercv in /usr/local/lib/python3.6/dist-packages (0.11.0)\n",
            "Requirement already satisfied: matplotlib in /usr/local/lib/python3.6/dist-packages (3.0.2)\n",
            "Requirement already satisfied: chainer>=5.0 in /usr/local/lib/python3.6/dist-packages (from chainercv) (5.0.0)\n",
            "Requirement already satisfied: Pillow in /usr/local/lib/python3.6/dist-packages (from chainercv) (4.0.0)\n",
            "Requirement already satisfied: pyparsing!=2.0.4,!=2.1.2,!=2.1.6,>=2.0.1 in /usr/local/lib/python3.6/dist-packages (from matplotlib) (2.3.1)\n",
            "Requirement already satisfied: python-dateutil>=2.1 in /usr/local/lib/python3.6/dist-packages (from matplotlib) (2.5.3)\n",
            "Requirement already satisfied: kiwisolver>=1.0.1 in /usr/local/lib/python3.6/dist-packages (from matplotlib) (1.0.1)\n",
            "Requirement already satisfied: cycler>=0.10 in /usr/local/lib/python3.6/dist-packages (from matplotlib) (0.10.0)\n",
            "Requirement already satisfied: numpy>=1.10.0 in /usr/local/lib/python3.6/dist-packages (from matplotlib) (1.14.6)\n",
            "Requirement already satisfied: filelock in /usr/local/lib/python3.6/dist-packages (from chainer>=5.0->chainercv) (3.0.10)\n",
            "Requirement already satisfied: protobuf>=3.0.0 in /usr/local/lib/python3.6/dist-packages (from chainer>=5.0->chainercv) (3.6.1)\n",
            "Requirement already satisfied: six>=1.9.0 in /usr/local/lib/python3.6/dist-packages (from chainer>=5.0->chainercv) (1.11.0)\n",
            "Requirement already satisfied: olefile in /usr/local/lib/python3.6/dist-packages (from Pillow->chainercv) (0.46)\n",
            "Requirement already satisfied: setuptools in /usr/local/lib/python3.6/dist-packages (from kiwisolver>=1.0.1->matplotlib) (40.7.1)\n"
          ],
          "name": "stdout"
        }
      ]
    },
    {
      "metadata": {
        "id": "9TjL3CYJqeKx",
        "colab_type": "code",
        "colab": {
          "base_uri": "https://localhost:8080/",
          "height": 116
        },
        "outputId": "45f812ae-469d-414b-c215-8c3c2ac13ee8"
      },
      "cell_type": "code",
      "source": [
        "!pip install cupy"
      ],
      "execution_count": 22,
      "outputs": [
        {
          "output_type": "stream",
          "text": [
            "Requirement already satisfied: cupy in /usr/local/lib/python3.6/dist-packages (5.2.0)\n",
            "Requirement already satisfied: numpy>=1.9.0 in /usr/local/lib/python3.6/dist-packages (from cupy) (1.14.6)\n",
            "Requirement already satisfied: six>=1.9.0 in /usr/local/lib/python3.6/dist-packages (from cupy) (1.11.0)\n",
            "Requirement already satisfied: fastrlock>=0.3 in /usr/local/lib/python3.6/dist-packages (from cupy) (0.4)\n"
          ],
          "name": "stdout"
        }
      ]
    },
    {
      "metadata": {
        "id": "3nAVI3oRojzb",
        "colab_type": "code",
        "colab": {
          "base_uri": "https://localhost:8080/",
          "height": 272
        },
        "outputId": "40e52059-8c74-4cc0-e073-8662c6079468"
      },
      "cell_type": "code",
      "source": [
        "import chainer\n",
        "import cupy\n",
        "import chainercv\n",
        "import matplotlib\n",
        "\n",
        "chainer.print_runtime_info()\n",
        "print('ChainerCV:', chainercv.__version__)\n",
        "print('matplotlib:', matplotlib.__version__)"
      ],
      "execution_count": 23,
      "outputs": [
        {
          "output_type": "stream",
          "text": [
            "Platform: Linux-4.14.79+-x86_64-with-Ubuntu-18.04-bionic\n",
            "Chainer: 5.0.0\n",
            "NumPy: 1.14.6\n",
            "CuPy:\n",
            "  CuPy Version          : 5.0.0\n",
            "  CUDA Root             : /usr/local/cuda\n",
            "  CUDA Build Version    : 9020\n",
            "  CUDA Driver Version   : 9020\n",
            "  CUDA Runtime Version  : 9020\n",
            "  cuDNN Build Version   : 7201\n",
            "  cuDNN Version         : 7201\n",
            "  NCCL Build Version    : 2213\n",
            "iDeep: 2.0.0.post3\n",
            "ChainerCV: 0.11.0\n",
            "matplotlib: 3.0.2\n"
          ],
          "name": "stdout"
        }
      ]
    },
    {
      "metadata": {
        "id": "UDcyoQ2etLo0",
        "colab_type": "code",
        "colab": {}
      },
      "cell_type": "code",
      "source": [
        "!if [ ! -d train ]; then curl -L -O https://github.com/mitmul/chainer-handson/releases/download/SegmentationDataset/train.zip && unzip train.zip && rm -rf train.zip; fi\n",
        "!if [ ! -d val ]; then curl -L -O https://github.com/mitmul/chainer-handson/releases/download/SegmentationDataset/val.zip && unzip val.zip && rm -rf val.zip; fi"
      ],
      "execution_count": 0,
      "outputs": []
    },
    {
      "metadata": {
        "id": "H_O9E3Oxuz8i",
        "colab_type": "code",
        "colab": {
          "base_uri": "https://localhost:8080/",
          "height": 204
        },
        "outputId": "128aaded-6868-4603-9efa-9de0004edff4"
      },
      "cell_type": "code",
      "source": [
        "%matplotlib inline\n",
        "\n",
        "import matplotlib.pyplot as plt\n",
        "import numpy as np\n",
        "\n",
        "from PIL import Image\n",
        "\n",
        "# PILライブラリで画像を読み込む\n",
        "img = np.asarray(Image.open('train/image/000.png'))\n",
        "label = np.asarray(Image.open('train/label/000.png'))\n",
        "\n",
        "# matplotlibライブラリを使って2つの画像を並べて表示\n",
        "fig, axes = plt.subplots(1, 2)\n",
        "axes[0].set_axis_off()\n",
        "axes[0].imshow(img, cmap='gray')\n",
        "axes[1].set_axis_off()\n",
        "axes[1].imshow(label, cmap='gray')\n",
        "plt.show()"
      ],
      "execution_count": 25,
      "outputs": [
        {
          "output_type": "display_data",
          "data": {
            "image/png": "[encoded data removed]",
            "text/plain": [
              "<Figure size 432x288 with 2 Axes>"
            ]
          },
          "metadata": {
            "tags": []
          }
        }
      ]
    },
    {
      "metadata": {
        "id": "2afL85VTu69k",
        "colab_type": "code",
        "colab": {}
      },
      "cell_type": "code",
      "source": [
        "import glob\n",
        "from chainer import datasets\n",
        "\n",
        "def create_dataset(img_filenames, label_filenames):\n",
        "    img = datasets.ImageDataset(img_filenames)\n",
        "    img = datasets.TransformDataset(img, lambda x: x / 255.)  # 0-1に正規化\n",
        "    label = datasets.ImageDataset(label_filenames, dtype=np.int32)\n",
        "    dataset = datasets.TupleDataset(img, label)\n",
        "    return dataset"
      ],
      "execution_count": 0,
      "outputs": []
    },
    {
      "metadata": {
        "id": "iC0FmNuM0XRo",
        "colab_type": "code",
        "colab": {}
      },
      "cell_type": "code",
      "source": [
        "def create_datasets():\n",
        "    # Python標準のglobを使ってMRI画像ファイル名/ラベル画像ファイル名の一覧を取得\n",
        "    train_img_filenames = sorted(glob.glob('train/image/*.png'))\n",
        "    train_label_filenames = sorted(glob.glob('train/label/*.png'))\n",
        "\n",
        "    # リストを渡して，データセットオブジェクト train を作成\n",
        "    train = create_dataset(train_img_filenames, train_label_filenames)\n",
        "\n",
        "    # 同様のことをvalidationデータに対しても行う\n",
        "    val_img_filenames = sorted(glob.glob('val/image/*.png'))\n",
        "    val_label_filenames = sorted(glob.glob('val/label/*.png'))\n",
        "    val = create_dataset(val_img_filenames, val_label_filenames)\n",
        "\n",
        "    return train, val"
      ],
      "execution_count": 0,
      "outputs": []
    },
    {
      "metadata": {
        "id": "e4y3dsSD0dVH",
        "colab_type": "code",
        "colab": {
          "base_uri": "https://localhost:8080/",
          "height": 68
        },
        "outputId": "cc70f999-8760-4721-d41c-da6cfd5b5c10"
      },
      "cell_type": "code",
      "source": [
        "train, val = create_datasets()\n",
        "\n",
        "print('Dataset size:\\n\\ttrain:\\t{}\\n\\tvalid:\\t{}'.format(len(train), len(val)))"
      ],
      "execution_count": 28,
      "outputs": [
        {
          "output_type": "stream",
          "text": [
            "Dataset size:\n",
            "\ttrain:\t234\n",
            "\tvalid:\t26\n"
          ],
          "name": "stdout"
        }
      ]
    },
    {
      "metadata": {
        "id": "FeBzWaDW0jTQ",
        "colab_type": "code",
        "colab": {}
      },
      "cell_type": "code",
      "source": [
        "# モデルの定義\n",
        "import chainer\n",
        "import chainer.functions as F\n",
        "import chainer.links as L\n",
        "\n",
        "class MultiLayerPerceptron(chainer.Chain):\n",
        "\n",
        "    def __init__(self, out_h, out_w):\n",
        "        super().__init__()\n",
        "        with self.init_scope():\n",
        "            self.l1 = L.Linear(None, 100)\n",
        "            self.l2 = L.Linear(100, 100)\n",
        "            self.l3 = L.Linear(100, out_h * out_w)\n",
        "        self.out_h = out_h\n",
        "        self.out_w = out_w\n",
        "\n",
        "    def forward(self, x):\n",
        "        h = F.relu(self.l1(x))\n",
        "        h = F.relu(self.l2(h))\n",
        "        h = self.l3(h)\n",
        "        n = x.shape[0]\n",
        "\n",
        "        return h.reshape((n, 1, self.out_h, self.out_w))"
      ],
      "execution_count": 0,
      "outputs": []
    },
    {
      "metadata": {
        "id": "3qnrZs4w0sd-",
        "colab_type": "code",
        "colab": {}
      },
      "cell_type": "code",
      "source": [
        "# Trainerの定義\n",
        "from chainer import iterators\n",
        "from chainer import training\n",
        "from chainer import optimizers\n",
        "from chainer.training import extensions\n",
        "\n",
        "def create_trainer(batchsize, train, val, stop, device=-1):\n",
        "    # 先程定義したモデルを使用\n",
        "    model = MultiLayerPerceptron(out_h=256, out_w=256)\n",
        "\n",
        "    # ピクセルごとの二値分類なので，目的関数にSigmoid cross entropyを，\n",
        "    # 精度をはかる関数としてBinary accuracyを指定しています\n",
        "    train_model = L.Classifier(\n",
        "        model, lossfun=F.sigmoid_cross_entropy, accfun=F.binary_accuracy)\n",
        "\n",
        "    # 最適化手法にAdamを使います\n",
        "    optimizer = optimizers.Adam()\n",
        "    optimizer.setup(train_model)\n",
        "\n",
        "    # データセットから，指定したバッチサイズ数のデータ点をまとめて取り出して返すイテレータを定義します\n",
        "    train_iter = iterators.MultiprocessIterator(train, batchsize)\n",
        "    val_iter = iterators.MultiprocessIterator(val, batchsize, repeat=False, shuffle=False)\n",
        "\n",
        "    # イテレータからデータを引き出し，モデルに渡して，目的関数の値を計算し，backwardしてパラメータを更新，\n",
        "    # までの一連の処理を行う updater を定義します\n",
        "    updater = training.StandardUpdater(train_iter, optimizer, device=device)\n",
        "\n",
        "    # 様々な付加機能をExtensionとして与えられるTrainerを使います\n",
        "    trainer = training.trainer.Trainer(updater, stop)\n",
        "\n",
        "    logging_attributes = [\n",
        "        'epoch', 'main/loss', 'main/accuracy', 'val/main/loss', 'val/main/accuracy']\n",
        "    trainer.extend(extensions.LogReport(logging_attributes))\n",
        "    trainer.extend(extensions.PrintReport(logging_attributes))\n",
        "    trainer.extend(extensions.PlotReport(['main/loss', 'val/main/loss'], 'epoch', file_name='loss.png'))\n",
        "    trainer.extend(extensions.PlotReport(['main/accuracy', 'val/main/accuracy'], 'epoch', file_name='accuracy.png'))\n",
        "    trainer.extend(extensions.Evaluator(val_iter, optimizer.target, device=device), name='val')\n",
        "\n",
        "    return trainer"
      ],
      "execution_count": 0,
      "outputs": []
    },
    {
      "metadata": {
        "id": "2ozggstC04x-",
        "colab_type": "code",
        "colab": {
          "base_uri": "https://localhost:8080/",
          "height": 408
        },
        "outputId": "ca322363-737b-49bc-e985-5f649808598b"
      },
      "cell_type": "code",
      "source": [
        "# 学習\n",
        "%%time\n",
        "trainer = create_trainer(64, train, val, (20, 'epoch'), device=0)\n",
        "trainer.run()\n"
      ],
      "execution_count": 31,
      "outputs": [
        {
          "output_type": "stream",
          "text": [
            "epoch       main/loss   main/accuracy  val/main/loss  val/main/accuracy\n",
            "\u001b[J1           1.0555      0.513246       0.816755       0.537801           \n",
            "\u001b[J2           0.759587    0.551513       0.674029       0.58202            \n",
            "\u001b[J3           0.676026    0.58252        0.668211       0.596384           \n",
            "\u001b[J4           0.648883    0.623104       0.624514       0.652363           \n",
            "\u001b[J5           0.603227    0.674411       0.561865       0.710391           \n",
            "\u001b[J6           0.543089    0.725434       0.49772        0.758402           \n",
            "\u001b[J7           0.462173    0.782309       0.395187       0.822664           \n",
            "\u001b[J8           0.353168    0.846812       0.282658       0.883271           \n",
            "\u001b[J9           0.257924    0.89576        0.205096       0.919998           \n",
            "\u001b[J10          0.173701    0.934432       0.125555       0.954344           \n",
            "\u001b[J11          0.105635    0.962342       0.0760357      0.973104           \n",
            "\u001b[J12          0.0694386   0.975833       0.0552267      0.980444           \n",
            "\u001b[J13          0.049514    0.982439       0.0407593      0.984803           \n",
            "\u001b[J14          0.0391395   0.985389       0.0344516      0.986323           \n",
            "\u001b[J15          0.033463    0.986849       0.0320404      0.986957           \n",
            "\u001b[J16          0.031905    0.987161       0.030291       0.987367           \n",
            "\u001b[J17          0.0311535   0.986974       0.0292782      0.9876             \n",
            "\u001b[J18          0.0281193   0.988193       0.0288927      0.987648           \n",
            "\u001b[J19          0.0289086   0.987566       0.0282758      0.987784           \n",
            "\u001b[J20          0.0281773   0.987955       0.0278273      0.987957           \n",
            "CPU times: user 15 s, sys: 6.66 s, total: 21.7 s\n",
            "Wall time: 19.4 s\n"
          ],
          "name": "stdout"
        }
      ]
    },
    {
      "metadata": {
        "id": "KsHKVjT41CaF",
        "colab_type": "code",
        "colab": {
          "base_uri": "https://localhost:8080/",
          "height": 279
        },
        "outputId": "6d71bd77-26e6-415d-ef13-1ad2932f210e"
      },
      "cell_type": "code",
      "source": [
        "from IPython.display import Image\n",
        "Image('result/loss.png')"
      ],
      "execution_count": 32,
      "outputs": [
        {
          "output_type": "execute_result",
          "data": {
            "image/png": "[encoded data removed]",
            "text/plain": [
              "<IPython.core.display.Image object>"
            ]
          },
          "metadata": {
            "tags": []
          },
          "execution_count": 32
        }
      ]
    },
    {
      "metadata": {
        "id": "3Z21zUe21TaA",
        "colab_type": "code",
        "colab": {
          "base_uri": "https://localhost:8080/",
          "height": 279
        },
        "outputId": "856db1b0-72c8-429f-a5fe-8df77059466b"
      },
      "cell_type": "code",
      "source": [
        "Image('result/accuracy.png')"
      ],
      "execution_count": 33,
      "outputs": [
        {
          "output_type": "execute_result",
          "data": {
            "image/png": "[encoded data removed]",
            "text/plain": [
              "<IPython.core.display.Image object>"
            ]
          },
          "metadata": {
            "tags": []
          },
          "execution_count": 33
        }
      ]
    },
    {
      "metadata": {
        "id": "68gDhTaD1bGf",
        "colab_type": "code",
        "colab": {
          "base_uri": "https://localhost:8080/",
          "height": 51
        },
        "outputId": "bff65088-a897-4cf0-f2bc-73809aae1c84"
      },
      "cell_type": "code",
      "source": [
        "# 評価\n",
        "from chainer import cuda\n",
        "from chainercv import evaluations\n",
        "\n",
        "def evaluate(trainer, val, device=-1):\n",
        "    # Trainerオブジェクトから学習済みモデルを取り出す\n",
        "    model = trainer.updater.get_optimizer('main').target.predictor\n",
        "\n",
        "    # validationデータ全部に対して予測を行う\n",
        "    preds = []\n",
        "    for img, label in val:\n",
        "        img = cuda.to_gpu(img[np.newaxis], device)\n",
        "        pred = model(img)\n",
        "        pred = cuda.to_cpu(pred.data[0, 0] > 0)\n",
        "        preds.append((pred, label[0]))\n",
        "    pred_labels, gt_labels = zip(*preds)\n",
        "\n",
        "    # 評価をして結果を表示\n",
        "    evals = evaluations.eval_semantic_segmentation(pred_labels, gt_labels)\n",
        "    print('Pixel Accuracy:', evals['pixel_accuracy'])\n",
        "    print('mIoU:', evals['miou'])\n",
        "\n",
        "evaluate(trainer, val, device=0)"
      ],
      "execution_count": 34,
      "outputs": [
        {
          "output_type": "stream",
          "text": [
            "Pixel Accuracy: 0.9879567072941706\n",
            "mIoU: 0.7054491083056734\n"
          ],
          "name": "stdout"
        }
      ]
    },
    {
      "metadata": {
        "id": "nFGyu6HS1rVE",
        "colab_type": "code",
        "colab": {
          "base_uri": "https://localhost:8080/",
          "height": 578
        },
        "outputId": "80f1debc-0da5-4ba4-9fa1-72099f17a76e"
      },
      "cell_type": "code",
      "source": [
        "def show_predicts(trainer, val, device=-1, n_sample=3):\n",
        "    # Trainerオブジェクトから学習済みモデルを取り出す\n",
        "    model = trainer.updater.get_optimizer('main').target.predictor\n",
        "\n",
        "    for i in range(n_sample):\n",
        "        img, label = val[i]\n",
        "        img = cuda.to_gpu(img, device)\n",
        "        pred = model(img[np.newaxis])\n",
        "        pred = cuda.to_cpu(pred.data[0, 0] > 0)\n",
        "        fig, axes = plt.subplots(1, 2)\n",
        "\n",
        "        axes[0].set_axis_off()\n",
        "        axes[0].imshow(pred, cmap='gray')\n",
        "\n",
        "        axes[1].set_axis_off()\n",
        "        axes[1].imshow(label[0], cmap='gray')\n",
        "\n",
        "        plt.show()\n",
        "\n",
        "show_predicts(trainer, val, device=0)"
      ],
      "execution_count": 35,
      "outputs": [
        {
          "output_type": "display_data",
          "data": {
            "image/png": "[encoded data removed]",
            "text/plain": [
              "<Figure size 432x288 with 2 Axes>"
            ]
          },
          "metadata": {
            "tags": []
          }
        },
        {
          "output_type": "display_data",
          "data": {
            "image/png": "[encoded data removed]",
            "text/plain": [
              "<Figure size 432x288 with 2 Axes>"
            ]
          },
          "metadata": {
            "tags": []
          }
        },
        {
          "output_type": "display_data",
          "data": {
            "image/png": "[encoded data removed]",
            "text/plain": [
              "<Figure size 432x288 with 2 Axes>"
            ]
          },
          "metadata": {
            "tags": []
          }
        }
      ]
    },
    {
      "metadata": {
        "id": "fLNBbAt111WF",
        "colab_type": "code",
        "colab": {
          "base_uri": "https://localhost:8080/",
          "height": 34
        },
        "outputId": "cec5b700-3352-4a1e-f292-dcc6bdfc8da7"
      },
      "cell_type": "code",
      "source": [
        "# 全畳込みネットワーク\n",
        "from chainer import reporter\n",
        "from chainer import cuda\n",
        "from chainercv import evaluations\n",
        "\n",
        "\n",
        "class FullyConvolutionalNetwork(chainer.Chain):\n",
        "\n",
        "    def __init__(self, out_h, out_w, n_class=1):\n",
        "        FIXME_1 = 64  # 追加した\n",
        "        FIXME_2 = 128\n",
        "        FIXME_3 = 128\n",
        "        FIXME_4 = 128\n",
        "        FIXME_5 = 128\n",
        "        super().__init__()\n",
        "        with self.init_scope():\n",
        "            # L.Convolution2D(in_ch, out_ch, ksize, stride, pad)\n",
        "            # in_chは省略することができるので，\n",
        "            # L.Convolution2D(out_ch, ksize, stride, pad)\n",
        "            # とかくこともできます．\n",
        "            self.conv1 = L.Convolution2D(None, FIXME_1, ksize=5, stride=2, pad=2)\n",
        "            self.conv2 = L.Convolution2D(None, FIXME_2, ksize=5, stride=2, pad=2)\n",
        "            self.conv3 = L.Convolution2D(None, FIXME_3, ksize=3, stride=1, pad=1)\n",
        "            self.conv4 = L.Convolution2D(None, FIXME_4, ksize=3, stride=1, pad=1)\n",
        "            self.conv5 = L.Convolution2D(None, FIXME_5, ksize=1, stride=1, pad=0)\n",
        "            # L.Deconvolution2D(in_ch, out_ch, ksize, stride, pad)\n",
        "            # in_chは省略することができるので，\n",
        "            # L.Deconvolution2D(out_ch, ksize, stride, pad)\n",
        "            # と書くこともできます．\n",
        "            self.deconv6 = L.Deconvolution2D(None, n_class, ksize=32, stride=16, pad=8)\n",
        "        self.out_h = out_h\n",
        "        self.out_w = out_w\n",
        "\n",
        "    def forward(self, x):\n",
        "        h = F.relu(self.conv1(x))\n",
        "        h = F.max_pooling_2d(h, 2, 2)\n",
        "\n",
        "        h = F.relu(self.conv2(h))\n",
        "        h = F.max_pooling_2d(h, 2, 2)\n",
        "\n",
        "        h = F.relu(self.conv3(h))\n",
        "        h = F.relu(self.conv4(h))\n",
        "        h = self.conv5(h)\n",
        "        h = self.deconv6(h)\n",
        "\n",
        "        return h.reshape(x.shape[0], 1, h.shape[2], h.shape[3])\n",
        "\n",
        "print(FullyConvolutionalNetwork(256, 256)(np.zeros((1, 1, 256, 256), dtype=np.float32)).shape[2:])\n"
      ],
      "execution_count": 44,
      "outputs": [
        {
          "output_type": "stream",
          "text": [
            "(256, 256)\n"
          ],
          "name": "stdout"
        }
      ]
    },
    {
      "metadata": {
        "id": "9jeI2eLE2Qsa",
        "colab_type": "code",
        "colab": {}
      },
      "cell_type": "code",
      "source": [
        "class PixelwiseSigmoidClassifier(chainer.Chain):\n",
        "\n",
        "    def __init__(self, predictor):\n",
        "        super().__init__()\n",
        "        with self.init_scope():\n",
        "            # 学習対象のモデルをpredictorとして保持しておく\n",
        "            self.predictor = predictor\n",
        "\n",
        "    def __call__(self, x, t):\n",
        "        # 学習対象のモデルでまず推論を行う\n",
        "        y = self.predictor(x)\n",
        "\n",
        "        # 2クラス分類の誤差を計算\n",
        "        loss = F.sigmoid_cross_entropy(y, t)\n",
        "\n",
        "        # 予測結果（0~1の連続値を持つグレースケール画像）を二値化し，\n",
        "        # ChainerCVのeval_semantic_segmentation関数に正解ラベルと\n",
        "        # 共に渡して各種スコアを計算\n",
        "        y, t = cuda.to_cpu(F.sigmoid(y).data), cuda.to_cpu(t)\n",
        "        y = np.asarray(y > 0.5, dtype=np.int32)\n",
        "        y, t = y[:, 0, ...], t[:, 0, ...]\n",
        "        evals = evaluations.eval_semantic_segmentation(y, t)\n",
        "\n",
        "        # 学習中のログに出力\n",
        "        reporter.report({'loss': loss,\n",
        "                         'miou': evals['miou'],\n",
        "                         'pa': evals['pixel_accuracy']}, self)\n",
        "        return loss\n"
      ],
      "execution_count": 0,
      "outputs": []
    },
    {
      "metadata": {
        "id": "CFjOxoeN71x9",
        "colab_type": "code",
        "colab": {}
      },
      "cell_type": "code",
      "source": [
        "def create_trainer(batchsize, train, val, stop, device=-1, log_trigger=(1, 'epoch')):\n",
        "    model = FullyConvolutionalNetwork(out_h=256, out_w=256)\n",
        "    train_model = PixelwiseSigmoidClassifier(model)\n",
        "\n",
        "    optimizer = optimizers.Adam(eps=1e-05)\n",
        "    optimizer.setup(train_model)\n",
        "\n",
        "    train_iter = iterators.MultiprocessIterator(train, batchsize)\n",
        "    val_iter = iterators.MultiprocessIterator(val, batchsize, repeat=False, shuffle=False)\n",
        "\n",
        "    updater = training.StandardUpdater(train_iter, optimizer, device=device)\n",
        "\n",
        "    trainer = training.trainer.Trainer(updater, stop, out='result_fcn')\n",
        "\n",
        "    logging_attributes = [\n",
        "        'epoch', 'main/loss', 'main/miou', 'main/pa',\n",
        "        'val/main/loss', 'val/main/miou', 'val/main/pa']\n",
        "    trainer.extend(extensions.LogReport(logging_attributes), trigger=log_trigger)\n",
        "    trainer.extend(extensions.PrintReport(logging_attributes), trigger=log_trigger)\n",
        "    trainer.extend(extensions.PlotReport(['main/loss', 'val/main/loss'], 'epoch', file_name='loss.png'))\n",
        "    trainer.extend(extensions.PlotReport(['main/miou', 'val/main/miou'], 'epoch', file_name='miou.png'))\n",
        "    trainer.extend(extensions.PlotReport(['main/pa', 'val/main/pa'], 'epoch', file_name='pa.png'))\n",
        "    trainer.extend(extensions.Evaluator(val_iter, train_model, device=device), name='val')\n",
        "    trainer.extend(extensions.dump_graph('main/loss'))\n",
        "    return trainer"
      ],
      "execution_count": 0,
      "outputs": []
    },
    {
      "metadata": {
        "id": "eO2ofxx48DMs",
        "colab_type": "code",
        "colab": {
          "base_uri": "https://localhost:8080/",
          "height": 408
        },
        "outputId": "72fa60ce-4100-48e2-8f5f-1813f99867fa"
      },
      "cell_type": "code",
      "source": [
        "%%time\n",
        "trainer = create_trainer(128, train, val, (200, 'epoch'), device=0, log_trigger=(10, 'epoch'))\n",
        "trainer.run()"
      ],
      "execution_count": 47,
      "outputs": [
        {
          "output_type": "stream",
          "text": [
            "epoch       main/loss   main/miou   main/pa     val/main/loss  val/main/miou  val/main/pa\n",
            "\u001b[J10          0.199733    0.492096    0.984191    0.187118       0.491147       0.982295     \n",
            "\u001b[J20          0.0604602   0.492285    0.984216    0.069761       0.491306       0.98228      \n",
            "\u001b[J30          0.0436656   0.535523    0.985203    0.0506857      0.538675       0.983126     \n",
            "\u001b[J40          0.0366217   0.658067    0.987414    0.0403396      0.609903       0.985543     \n",
            "\u001b[J50          0.0378743   0.54666     0.985985    0.037479       0.59465        0.985709     \n",
            "\u001b[J60          0.0255686   0.703464    0.990458    0.0293155      0.727501       0.989004     \n",
            "\u001b[J70          0.0199257   0.778634    0.992352    0.0242916      0.778665       0.99053      \n",
            "\u001b[J80          0.0174456   0.826831    0.993405    0.019567       0.789167       0.992061     \n",
            "\u001b[J90          0.0145264   0.840033    0.994091    0.0168099      0.831007       0.993072     \n",
            "\u001b[J100         0.0118659   0.859738    0.99522     0.0146341      0.83819        0.993906     \n",
            "\u001b[J110         0.00996174  0.880534    0.995984    0.0130097      0.859754       0.99462      \n",
            "\u001b[J120         0.00929645  0.893963    0.996177    0.012036       0.872646       0.995048     \n",
            "\u001b[J130         0.00835963  0.902643    0.996667    0.0112081      0.879659       0.995353     \n",
            "\u001b[J140         0.00719665  0.918361    0.997109    0.011042       0.884247       0.995415     \n",
            "\u001b[J150         0.00630849  0.91776     0.997396    0.010244       0.888887       0.995724     \n",
            "\u001b[J160         0.00677128  0.928831    0.997276    0.0102926      0.884903       0.995709     \n",
            "\u001b[J170         0.005758    0.933733    0.997647    0.00974114     0.891985       0.995952     \n",
            "\u001b[J180         0.00658463  0.925414    0.997236    0.00935296     0.900369       0.996155     \n",
            "\u001b[J190         0.00514252  0.934664    0.997856    0.00944359     0.894409       0.996094     \n",
            "\u001b[J200         0.00506925  0.941096    0.997913    0.00906674     0.900129       0.996276     \n",
            "CPU times: user 4min 53s, sys: 2min 10s, total: 7min 3s\n",
            "Wall time: 5min 39s\n"
          ],
          "name": "stdout"
        }
      ]
    },
    {
      "metadata": {
        "id": "hfZ-93gj8Lhv",
        "colab_type": "code",
        "colab": {
          "base_uri": "https://localhost:8080/",
          "height": 298
        },
        "outputId": "a8c42273-a6fd-44ed-b87b-11ae6d271383"
      },
      "cell_type": "code",
      "source": [
        "from IPython.display import Image\n",
        "print('Loss')\n",
        "Image('result_fcn/loss.png')"
      ],
      "execution_count": 48,
      "outputs": [
        {
          "output_type": "stream",
          "text": [
            "Loss\n"
          ],
          "name": "stdout"
        },
        {
          "output_type": "execute_result",
          "data": {
            "image/png": "[encoded data removed]",
            "text/plain": [
              "<IPython.core.display.Image object>"
            ]
          },
          "metadata": {
            "tags": []
          },
          "execution_count": 48
        }
      ]
    },
    {
      "metadata": {
        "id": "0a09AfU9AC8h",
        "colab_type": "code",
        "colab": {
          "base_uri": "https://localhost:8080/",
          "height": 296
        },
        "outputId": "fab79f4c-4f5d-4a65-9635-fcf1350f74f8"
      },
      "cell_type": "code",
      "source": [
        "print('mean IoU')\n",
        "Image('result_fcn/miou.png')"
      ],
      "execution_count": 49,
      "outputs": [
        {
          "output_type": "stream",
          "text": [
            "mean IoU\n"
          ],
          "name": "stdout"
        },
        {
          "output_type": "execute_result",
          "data": {
            "image/png": "[encoded data removed]",
            "text/plain": [
              "<IPython.core.display.Image object>"
            ]
          },
          "metadata": {
            "tags": []
          },
          "execution_count": 49
        }
      ]
    },
    {
      "metadata": {
        "id": "AdrJ6hIZAHWR",
        "colab_type": "code",
        "colab": {
          "base_uri": "https://localhost:8080/",
          "height": 296
        },
        "outputId": "7cd2cd5a-3615-4a45-96b2-61dfb4267e0c"
      },
      "cell_type": "code",
      "source": [
        "print('Pixel Accuracy')\n",
        "Image('result_fcn/pa.png')"
      ],
      "execution_count": 50,
      "outputs": [
        {
          "output_type": "stream",
          "text": [
            "Pixel Accuracy\n"
          ],
          "name": "stdout"
        },
        {
          "output_type": "execute_result",
          "data": {
            "image/png": "[encoded data removed]",
            "text/plain": [
              "<IPython.core.display.Image object>"
            ]
          },
          "metadata": {
            "tags": []
          },
          "execution_count": 50
        }
      ]
    },
    {
      "metadata": {
        "id": "U5D0TxWwANCR",
        "colab_type": "code",
        "colab": {
          "base_uri": "https://localhost:8080/",
          "height": 612
        },
        "outputId": "ea406f96-8e04-45f6-9e14-7da7c185d564"
      },
      "cell_type": "code",
      "source": [
        "evaluate(trainer, val, device=0)\n",
        "show_predicts(trainer, val, device=0, )"
      ],
      "execution_count": 51,
      "outputs": [
        {
          "output_type": "stream",
          "text": [
            "Pixel Accuracy: 0.9962762685922476\n",
            "mIoU: 0.9001290736172737\n"
          ],
          "name": "stdout"
        },
        {
          "output_type": "display_data",
          "data": {
            "image/png": "[encoded data removed]",
            "text/plain": [
              "<Figure size 432x288 with 2 Axes>"
            ]
          },
          "metadata": {
            "tags": []
          }
        },
        {
          "output_type": "display_data",
          "data": {
            "image/png": "[encoded data removed]",
            "text/plain": [
              "<Figure size 432x288 with 2 Axes>"
            ]
          },
          "metadata": {
            "tags": []
          }
        },
        {
          "output_type": "display_data",
          "data": {
            "image/png": "[encoded data removed]",
            "text/plain": [
              "<Figure size 432x288 with 2 Axes>"
            ]
          },
          "metadata": {
            "tags": []
          }
        }
      ]
    },
    {
      "metadata": {
        "id": "odFGKv55AUAW",
        "colab_type": "code",
        "colab": {}
      },
      "cell_type": "code",
      "source": [
        ""
      ],
      "execution_count": 0,
      "outputs": []
    }
  ]
}