{
  "nbformat": 4,
  "nbformat_minor": 0,
  "metadata": {
    "colab": {
      "name": "メディカルAI第8章心電図.ipynb",
      "version": "0.3.2",
      "provenance": [],
      "collapsed_sections": [],
      "include_colab_link": true
    },
    "kernelspec": {
      "name": "python3",
      "display_name": "Python 3"
    },
    "accelerator": "GPU"
  },
  "cells": [
    {
      "cell_type": "markdown",
      "metadata": {
        "id": "view-in-github",
        "colab_type": "text"
      },
      "source": [
        "<a href=\"https://colab.research.google.com/github/nomotoT/Python_Lesson/blob/master/%E3%83%A1%E3%83%87%E3%82%A3%E3%82%AB%E3%83%ABAI%E7%AC%AC8%E7%AB%A0%E5%BF%83%E9%9B%BB%E5%9B%B3.ipynb\" target=\"_parent\"><img src=\"https://colab.research.google.com/assets/colab-badge.svg\" alt=\"Open In Colab\"/></a>"
      ]
    },
    {
      "metadata": {
        "id": "yNos0mhT51C5",
        "colab_type": "text"
      },
      "cell_type": "markdown",
      "source": [
        "# 8. 実践編: ディープラーニングを使ったモニタリングデータの時系列解析\n"
      ]
    },
    {
      "metadata": {
        "id": "M-GZISpS5yA8",
        "colab_type": "code",
        "colab": {
          "base_uri": "https://localhost:8080/",
          "height": 6171
        },
        "outputId": "99f18c94-93f2-4fa9-e2a2-f1855afd2ed5"
      },
      "cell_type": "code",
      "source": [
        "!pip freeze"
      ],
      "execution_count": 2,
      "outputs": [
        {
          "output_type": "stream",
          "text": [
            "absl-py==0.7.1\n",
            "alabaster==0.7.12\n",
            "albumentations==0.1.12\n",
            "altair==2.4.1\n",
            "astor==0.7.1\n",
            "astropy==3.0.5\n",
            "atari-py==0.1.7\n",
            "atomicwrites==1.3.0\n",
            "attrs==19.1.0\n",
            "audioread==2.1.6\n",
            "autograd==1.2\n",
            "Babel==2.6.0\n",
            "backcall==0.1.0\n",
            "backports.tempfile==1.0\n",
            "backports.weakref==1.0.post1\n",
            "beautifulsoup4==4.6.3\n",
            "bleach==3.1.0\n",
            "bokeh==1.0.4\n",
            "boto==2.49.0\n",
            "boto3==1.9.123\n",
            "botocore==1.12.123\n",
            "Bottleneck==1.2.1\n",
            "branca==0.3.1\n",
            "bs4==0.0.1\n",
            "bz2file==0.98\n",
            "cachetools==3.1.0\n",
            "certifi==2019.3.9\n",
            "cffi==1.12.2\n",
            "chainer==5.0.0\n",
            "chainercv==0.12.0\n",
            "chardet==3.0.4\n",
            "Click==7.0\n",
            "cloudpickle==0.6.1\n",
            "cmake==3.12.0\n",
            "colorlover==0.3.0\n",
            "community==1.0.0b1\n",
            "contextlib2==0.5.5\n",
            "convertdate==2.1.3\n",
            "coverage==3.7.1\n",
            "coveralls==0.5\n",
            "crcmod==1.7\n",
            "cufflinks==0.14.6\n",
            "cupy-cuda100==5.2.0\n",
            "cvxopt==1.2.3\n",
            "cvxpy==1.0.15\n",
            "cycler==0.10.0\n",
            "cymem==2.0.2\n",
            "Cython==0.29.6\n",
            "cytoolz==0.9.0.1\n",
            "daft==0.0.4\n",
            "dask==0.20.2\n",
            "dataclasses==0.6\n",
            "datascience==0.10.6\n",
            "decorator==4.4.0\n",
            "defusedxml==0.5.0\n",
            "dill==0.2.9\n",
            "distributed==1.25.3\n",
            "Django==2.1.7\n",
            "dlib==19.16.0\n",
            "dm-sonnet==1.23\n",
            "docopt==0.6.2\n",
            "docutils==0.14\n",
            "dopamine-rl==1.0.5\n",
            "easydict==1.9\n",
            "ecos==2.0.7.post1\n",
            "editdistance==0.5.3\n",
            "en-core-web-sm==2.0.0\n",
            "entrypoints==0.3\n",
            "enum34==1.1.6\n",
            "ephem==3.7.6.0\n",
            "et-xmlfile==1.0.1\n",
            "fa2==0.3.5\n",
            "fancyimpute==0.4.2\n",
            "fastai==1.0.50.post1\n",
            "fastcache==1.0.2\n",
            "fastdtw==0.3.2\n",
            "fastprogress==0.1.20\n",
            "fastrlock==0.4\n",
            "fbprophet==0.4.post2\n",
            "featuretools==0.4.1\n",
            "filelock==3.0.10\n",
            "fix-yahoo-finance==0.0.22\n",
            "Flask==1.0.2\n",
            "folium==0.8.3\n",
            "future==0.16.0\n",
            "gast==0.2.2\n",
            "GDAL==2.2.2\n",
            "gdown==3.6.4\n",
            "gensim==3.6.0\n",
            "geographiclib==1.49\n",
            "geopy==1.17.0\n",
            "gevent==1.4.0\n",
            "gin-config==0.1.4\n",
            "glob2==0.6\n",
            "google==2.0.2\n",
            "google-api-core==1.8.2\n",
            "google-api-python-client==1.6.7\n",
            "google-auth==1.4.2\n",
            "google-auth-httplib2==0.0.3\n",
            "google-auth-oauthlib==0.3.0\n",
            "google-cloud-bigquery==1.8.1\n",
            "google-cloud-core==0.29.1\n",
            "google-cloud-language==1.0.2\n",
            "google-cloud-storage==1.13.2\n",
            "google-cloud-translate==1.3.3\n",
            "google-colab==1.0.0\n",
            "google-resumable-media==0.3.2\n",
            "googleapis-common-protos==1.5.9\n",
            "googledrivedownloader==0.3\n",
            "graph-nets==1.0.3\n",
            "graphviz==0.10.1\n",
            "greenlet==0.4.15\n",
            "grpcio==1.15.0\n",
            "gspread==3.0.1\n",
            "gspread-dataframe==3.0.2\n",
            "gunicorn==19.9.0\n",
            "gym==0.10.11\n",
            "h5py==2.8.0\n",
            "HeapDict==1.0.0\n",
            "holidays==0.9.10\n",
            "html5lib==1.0.1\n",
            "httpimport==0.5.16\n",
            "httplib2==0.11.3\n",
            "humanize==0.5.1\n",
            "hyperopt==0.1.2\n",
            "ideep4py==2.0.0.post3\n",
            "idna==2.6\n",
            "image==1.5.27\n",
            "imageio==2.4.1\n",
            "imagesize==1.1.0\n",
            "imbalanced-learn==0.4.3\n",
            "imblearn==0.0\n",
            "imgaug==0.2.8\n",
            "imutils==0.5.2\n",
            "inflect==2.1.0\n",
            "intel-openmp==2019.0\n",
            "intervaltree==2.1.0\n",
            "ipykernel==4.6.1\n",
            "ipython==5.5.0\n",
            "ipython-genutils==0.2.0\n",
            "ipython-sql==0.3.9\n",
            "ipywidgets==7.4.2\n",
            "itsdangerous==1.1.0\n",
            "jdcal==1.4\n",
            "jedi==0.13.3\n",
            "jieba==0.39\n",
            "Jinja2==2.10\n",
            "jmespath==0.9.4\n",
            "joblib==0.12.5\n",
            "jpeg4py==0.1.4\n",
            "jsonschema==2.6.0\n",
            "jupyter==1.0.0\n",
            "jupyter-client==5.2.4\n",
            "jupyter-console==6.0.0\n",
            "jupyter-core==4.4.0\n",
            "kaggle==1.5.3\n",
            "kapre==0.1.3.1\n",
            "Keras==2.2.4\n",
            "Keras-Applications==1.0.7\n",
            "Keras-Preprocessing==1.0.9\n",
            "keras-vis==0.4.1\n",
            "kiwisolver==1.0.1\n",
            "knnimpute==0.1.0\n",
            "librosa==0.6.3\n",
            "lightgbm==2.2.3\n",
            "llvmlite==0.28.0\n",
            "lmdb==0.94\n",
            "lucid==0.3.8\n",
            "lunardate==0.2.0\n",
            "lxml==4.2.6\n",
            "magenta==0.3.19\n",
            "Markdown==3.1\n",
            "MarkupSafe==1.1.1\n",
            "matplotlib==3.0.3\n",
            "matplotlib-venn==0.11.5\n",
            "mesh-tensorflow==0.0.5\n",
            "mido==1.2.6\n",
            "mir-eval==0.5\n",
            "missingno==0.4.1\n",
            "mistune==0.8.4\n",
            "mkl==2019.0\n",
            "mlxtend==0.14.0\n",
            "mock==2.0.0\n",
            "more-itertools==6.0.0\n",
            "moviepy==0.2.3.5\n",
            "mpi4py==3.0.1\n",
            "mpmath==1.1.0\n",
            "msgpack==0.5.6\n",
            "msgpack-numpy==0.4.3.2\n",
            "multiprocess==0.70.7\n",
            "multitasking==0.0.7\n",
            "murmurhash==1.0.2\n",
            "music21==5.5.0\n",
            "natsort==5.5.0\n",
            "nbconvert==5.4.1\n",
            "nbformat==4.4.0\n",
            "networkx==2.2\n",
            "nibabel==2.3.3\n",
            "nltk==3.2.5\n",
            "nose==1.3.7\n",
            "notebook==5.2.2\n",
            "np-utils==0.5.10.0\n",
            "numba==0.40.1\n",
            "numexpr==2.6.9\n",
            "numpy==1.14.6\n",
            "nvidia-ml-py3==7.352.0\n",
            "oauth2client==4.1.3\n",
            "oauthlib==3.0.1\n",
            "okgrade==0.4.3\n",
            "olefile==0.46\n",
            "opencv-contrib-python==3.4.3.18\n",
            "opencv-python==3.4.5.20\n",
            "openpyxl==2.5.9\n",
            "osqp==0.5.0\n",
            "packaging==19.0\n",
            "pandas==0.22.0\n",
            "pandas-datareader==0.7.0\n",
            "pandas-gbq==0.4.1\n",
            "pandas-profiling==1.4.1\n",
            "pandocfilters==1.4.2\n",
            "parso==0.3.4\n",
            "pathlib==1.0.1\n",
            "patsy==0.5.1\n",
            "pbr==5.1.3\n",
            "pexpect==4.6.0\n",
            "pickleshare==0.7.5\n",
            "Pillow==4.1.1\n",
            "pip-tools==3.4.0\n",
            "plac==0.9.6\n",
            "plotly==3.6.1\n",
            "pluggy==0.7.1\n",
            "portpicker==1.2.0\n",
            "prefetch-generator==1.0.1\n",
            "preshed==2.0.1\n",
            "pretty-midi==0.2.8\n",
            "prettytable==0.7.2\n",
            "progressbar2==3.38.0\n",
            "prometheus-client==0.6.0\n",
            "promise==2.2.1\n",
            "prompt-toolkit==1.0.15\n",
            "protobuf==3.7.1\n",
            "psutil==5.4.8\n",
            "psycopg2==2.7.6.1\n",
            "ptyprocess==0.6.0\n",
            "py==1.8.0\n",
            "pyasn1==0.4.5\n",
            "pyasn1-modules==0.2.4\n",
            "pycocotools==2.0.0\n",
            "pycparser==2.19\n",
            "pydot==1.3.0\n",
            "pydot-ng==2.0.0\n",
            "pydotplus==2.0.2\n",
            "pyemd==0.5.1\n",
            "pyglet==1.3.2\n",
            "Pygments==2.1.3\n",
            "pygobject==3.26.1\n",
            "pymc3==3.6\n",
            "pymongo==3.7.2\n",
            "pymystem3==0.2.0\n",
            "PyOpenGL==3.1.0\n",
            "pyparsing==2.3.1\n",
            "pyrsistent==0.14.11\n",
            "pysndfile==1.3.2\n",
            "PySocks==1.6.8\n",
            "pystache==0.5.4\n",
            "pystan==2.18.1.0\n",
            "pytest==3.6.4\n",
            "python-apt==1.6.3+ubuntu1\n",
            "python-chess==0.23.11\n",
            "python-dateutil==2.5.3\n",
            "python-louvain==0.13\n",
            "python-rtmidi==1.2.1\n",
            "python-slugify==3.0.1\n",
            "python-utils==2.3.0\n",
            "pytz==2018.9\n",
            "PyWavelets==1.0.2\n",
            "PyYAML==3.13\n",
            "pyzmq==17.0.0\n",
            "qtconsole==4.4.3\n",
            "regex==2018.1.10\n",
            "requests==2.18.4\n",
            "requests-oauthlib==1.2.0\n",
            "resampy==0.2.1\n",
            "retrying==1.3.3\n",
            "rpy2==2.9.5\n",
            "rsa==4.0\n",
            "s3fs==0.2.0\n",
            "s3transfer==0.2.0\n",
            "scikit-image==0.13.1\n",
            "scikit-learn==0.20.3\n",
            "scipy==1.1.0\n",
            "screen-resolution-extra==0.0.0\n",
            "scs==2.1.0\n",
            "seaborn==0.7.1\n",
            "Send2Trash==1.5.0\n",
            "setuptools-git==1.2\n",
            "Shapely==1.6.4.post2\n",
            "simplegeneric==0.8.1\n",
            "six==1.11.0\n",
            "sklearn==0.0\n",
            "smart-open==1.8.0\n",
            "snowballstemmer==1.2.1\n",
            "sortedcontainers==2.1.0\n",
            "spacy==2.0.18\n",
            "Sphinx==1.8.5\n",
            "sphinxcontrib-websupport==1.1.0\n",
            "SQLAlchemy==1.3.1\n",
            "sqlparse==0.3.0\n",
            "stable-baselines==2.2.1\n",
            "statsmodels==0.8.0\n",
            "sympy==1.1.1\n",
            "tables==3.4.4\n",
            "tabulate==0.8.3\n",
            "tblib==1.3.2\n",
            "tensor2tensor==1.11.0\n",
            "tensorboard==1.13.1\n",
            "tensorboardcolab==0.0.22\n",
            "tensorflow==1.13.1\n",
            "tensorflow-estimator==1.13.0\n",
            "tensorflow-hub==0.3.0\n",
            "tensorflow-metadata==0.13.0\n",
            "tensorflow-probability==0.6.0\n",
            "termcolor==1.1.0\n",
            "terminado==0.8.1\n",
            "testpath==0.4.2\n",
            "text-unidecode==1.2\n",
            "textblob==0.15.3\n",
            "textgenrnn==1.4.1\n",
            "tfds-nightly==1.0.1.dev201903270105\n",
            "tflearn==0.3.2\n",
            "Theano==1.0.4\n",
            "thinc==6.12.1\n",
            "toolz==0.9.0\n",
            "torch==1.0.1.post2\n",
            "torchsummary==1.5.1\n",
            "torchtext==0.3.1\n",
            "torchvision==0.2.2.post3\n",
            "tornado==4.5.3\n",
            "tqdm==4.28.1\n",
            "traitlets==4.3.2\n",
            "tweepy==3.6.0\n",
            "typing==3.6.6\n",
            "tzlocal==1.5.1\n",
            "ujson==1.35\n",
            "umap-learn==0.3.8\n",
            "uritemplate==3.0.0\n",
            "urllib3==1.22\n",
            "vega-datasets==0.7.0\n",
            "wcwidth==0.1.7\n",
            "webencodings==0.5.1\n",
            "Werkzeug==0.15.1\n",
            "widgetsnbextension==3.4.2\n",
            "wordcloud==1.5.0\n",
            "wrapt==1.10.11\n",
            "xarray==0.11.3\n",
            "xgboost==0.7.post4\n",
            "xkit==0.0.0\n",
            "xlrd==1.1.0\n",
            "xlwt==1.3.0\n",
            "yellowbrick==0.9.1\n",
            "zict==0.1.4\n",
            "zmq==0.0.0\n"
          ],
          "name": "stdout"
        }
      ]
    },
    {
      "metadata": {
        "id": "Y00l3ZWZ6WfG",
        "colab_type": "code",
        "colab": {
          "base_uri": "https://localhost:8080/",
          "height": 928
        },
        "outputId": "db3a2ab6-981d-4008-db42-956301c6fba1"
      },
      "cell_type": "code",
      "source": [
        "!apt -y -q install tree\n",
        "!pip install wfdb==2.2.1 imbalanced-learn==0.4.3"
      ],
      "execution_count": 3,
      "outputs": [
        {
          "output_type": "stream",
          "text": [
            "Reading package lists...\n",
            "Building dependency tree...\n",
            "Reading state information...\n",
            "The following package was automatically installed and is no longer required:\n",
            "  libnvidia-common-410\n",
            "Use 'apt autoremove' to remove it.\n",
            "The following NEW packages will be installed:\n",
            "  tree\n",
            "0 upgraded, 1 newly installed, 0 to remove and 6 not upgraded.\n",
            "Need to get 40.7 kB of archives.\n",
            "After this operation, 105 kB of additional disk space will be used.\n",
            "Get:1 http://archive.ubuntu.com/ubuntu bionic/universe amd64 tree amd64 1.7.0-5 [40.7 kB]\n",
            "Fetched 40.7 kB in 0s (122 kB/s)\n",
            "Selecting previously unselected package tree.\n",
            "(Reading database ... 131294 files and directories currently installed.)\n",
            "Preparing to unpack .../tree_1.7.0-5_amd64.deb ...\n",
            "Unpacking tree (1.7.0-5) ...\n",
            "Setting up tree (1.7.0-5) ...\n",
            "Processing triggers for man-db (2.8.3-2ubuntu0.1) ...\n",
            "Collecting wfdb==2.2.1\n",
            "\u001b[?25l  Downloading https://files.pythonhosted.org/packages/b2/96/c2200539fdf4f087e14d30ed62a66544b6f441196bcb8ecc7a29ec6503b9/wfdb-2.2.1.tar.gz (94kB)\n",
            "\u001b[K    100% |████████████████████████████████| 102kB 3.9MB/s \n",
            "\u001b[?25hRequirement already satisfied: imbalanced-learn==0.4.3 in /usr/local/lib/python3.6/dist-packages (0.4.3)\n",
            "Requirement already satisfied: nose>=1.3.7 in /usr/local/lib/python3.6/dist-packages (from wfdb==2.2.1) (1.3.7)\n",
            "Requirement already satisfied: numpy>=1.11.0 in /usr/local/lib/python3.6/dist-packages (from wfdb==2.2.1) (1.14.6)\n",
            "Requirement already satisfied: matplotlib>=1.5.1 in /usr/local/lib/python3.6/dist-packages (from wfdb==2.2.1) (3.0.3)\n",
            "Requirement already satisfied: requests>=2.10.0 in /usr/local/lib/python3.6/dist-packages (from wfdb==2.2.1) (2.18.4)\n",
            "Requirement already satisfied: pandas>=0.19.1 in /usr/local/lib/python3.6/dist-packages (from wfdb==2.2.1) (0.22.0)\n",
            "Requirement already satisfied: scipy>=0.19.0 in /usr/local/lib/python3.6/dist-packages (from wfdb==2.2.1) (1.1.0)\n",
            "Requirement already satisfied: sklearn>=0.0 in /usr/local/lib/python3.6/dist-packages (from wfdb==2.2.1) (0.0)\n",
            "Requirement already satisfied: scikit-learn>=0.20 in /usr/local/lib/python3.6/dist-packages (from imbalanced-learn==0.4.3) (0.20.3)\n",
            "Requirement already satisfied: cycler>=0.10 in /usr/local/lib/python3.6/dist-packages (from matplotlib>=1.5.1->wfdb==2.2.1) (0.10.0)\n",
            "Requirement already satisfied: kiwisolver>=1.0.1 in /usr/local/lib/python3.6/dist-packages (from matplotlib>=1.5.1->wfdb==2.2.1) (1.0.1)\n",
            "Requirement already satisfied: python-dateutil>=2.1 in /usr/local/lib/python3.6/dist-packages (from matplotlib>=1.5.1->wfdb==2.2.1) (2.5.3)\n",
            "Requirement already satisfied: pyparsing!=2.0.4,!=2.1.2,!=2.1.6,>=2.0.1 in /usr/local/lib/python3.6/dist-packages (from matplotlib>=1.5.1->wfdb==2.2.1) (2.3.1)\n",
            "Requirement already satisfied: idna<2.7,>=2.5 in /usr/local/lib/python3.6/dist-packages (from requests>=2.10.0->wfdb==2.2.1) (2.6)\n",
            "Requirement already satisfied: urllib3<1.23,>=1.21.1 in /usr/local/lib/python3.6/dist-packages (from requests>=2.10.0->wfdb==2.2.1) (1.22)\n",
            "Requirement already satisfied: certifi>=2017.4.17 in /usr/local/lib/python3.6/dist-packages (from requests>=2.10.0->wfdb==2.2.1) (2019.3.9)\n",
            "Requirement already satisfied: chardet<3.1.0,>=3.0.2 in /usr/local/lib/python3.6/dist-packages (from requests>=2.10.0->wfdb==2.2.1) (3.0.4)\n",
            "Requirement already satisfied: pytz>=2011k in /usr/local/lib/python3.6/dist-packages (from pandas>=0.19.1->wfdb==2.2.1) (2018.9)\n",
            "Requirement already satisfied: six in /usr/local/lib/python3.6/dist-packages (from cycler>=0.10->matplotlib>=1.5.1->wfdb==2.2.1) (1.11.0)\n",
            "Requirement already satisfied: setuptools in /usr/local/lib/python3.6/dist-packages (from kiwisolver>=1.0.1->matplotlib>=1.5.1->wfdb==2.2.1) (40.8.0)\n",
            "Building wheels for collected packages: wfdb\n",
            "  Building wheel for wfdb (setup.py) ... \u001b[?25ldone\n",
            "\u001b[?25h  Stored in directory: /root/.cache/pip/wheels/bb/a9/00/0078d26b0c15b31be0001af8eb659496709c361c69641303f1\n",
            "Successfully built wfdb\n",
            "Installing collected packages: wfdb\n",
            "Successfully installed wfdb-2.2.1\n"
          ],
          "name": "stdout"
        }
      ]
    },
    {
      "metadata": {
        "id": "iTtx9kzQ6n3z",
        "colab_type": "code",
        "colab": {
          "base_uri": "https://localhost:8080/",
          "height": 301
        },
        "outputId": "30c8c093-5077-4768-b2ce-aabcb62f6fd4"
      },
      "cell_type": "code",
      "source": [
        "!curl https://colab.chainer.org/install | sh -"
      ],
      "execution_count": 4,
      "outputs": [
        {
          "output_type": "stream",
          "text": [
            "  % Total    % Received % Xferd  Average Speed   Time    Time     Time  Current\n",
            "                                 Dload  Upload   Total   Spent    Left  Speed\n",
            "\r  0     0    0     0    0     0      0      0 --:--:-- --:--:-- --:--:--     0\r100  1580  100  1580    0     0   5724      0 --:--:-- --:--:-- --:--:--  5724\n",
            "+ apt -y -q install cuda-libraries-dev-10-0\n",
            "Reading package lists...\n",
            "Building dependency tree...\n",
            "Reading state information...\n",
            "cuda-libraries-dev-10-0 is already the newest version (10.0.130-1).\n",
            "The following package was automatically installed and is no longer required:\n",
            "  libnvidia-common-410\n",
            "Use 'apt autoremove' to remove it.\n",
            "0 upgraded, 0 newly installed, 0 to remove and 6 not upgraded.\n",
            "+ pip install -q cupy-cuda100  chainer \n",
            "+ set +ex\n",
            "Installation succeeded!\n"
          ],
          "name": "stdout"
        }
      ]
    },
    {
      "metadata": {
        "id": "KgtSkUlY6u30",
        "colab_type": "code",
        "colab": {
          "base_uri": "https://localhost:8080/",
          "height": 357
        },
        "outputId": "aa585961-fa94-416d-c3e6-c9780666e5bc"
      },
      "cell_type": "code",
      "source": [
        "import os\n",
        "import random\n",
        "import numpy as np\n",
        "import chainer\n",
        "import scipy\n",
        "import pandas as pd\n",
        "import matplotlib\n",
        "import seaborn as sn\n",
        "import wfdb\n",
        "import sklearn\n",
        "import imblearn\n",
        "\n",
        "chainer.print_runtime_info()\n",
        "print(\"Scipy: \", scipy.__version__)\n",
        "print(\"Pandas: \", pd.__version__)\n",
        "print(\"Matplotlib: \", matplotlib.__version__)\n",
        "print(\"Seaborn: \", sn.__version__)\n",
        "print(\"WFDB: \", wfdb.__version__)\n",
        "print(\"Scikit-learn: \", sklearn.__version__)\n",
        "print(\"Imbalanced-learn: \", imblearn.__version__)"
      ],
      "execution_count": 5,
      "outputs": [
        {
          "output_type": "stream",
          "text": [
            "Platform: Linux-4.14.79+-x86_64-with-Ubuntu-18.04-bionic\n",
            "Chainer: 5.0.0\n",
            "NumPy: 1.14.6\n",
            "CuPy:\n",
            "  CuPy Version          : 5.2.0\n",
            "  CUDA Root             : /usr/local/cuda\n",
            "  CUDA Build Version    : 10000\n",
            "  CUDA Driver Version   : 10000\n",
            "  CUDA Runtime Version  : 10000\n",
            "  cuDNN Build Version   : 7301\n",
            "  cuDNN Version         : 7301\n",
            "  NCCL Build Version    : 2307\n",
            "iDeep: 2.0.0.post3\n",
            "Scipy:  1.1.0\n",
            "Pandas:  0.22.0\n",
            "Matplotlib:  3.0.3\n",
            "Seaborn:  0.7.1\n",
            "WFDB:  2.2.1\n",
            "Scikit-learn:  0.20.3\n",
            "Imbalanced-learn:  0.4.3\n"
          ],
          "name": "stdout"
        }
      ]
    },
    {
      "metadata": {
        "id": "asMZVrVQ60s5",
        "colab_type": "code",
        "colab": {}
      },
      "cell_type": "code",
      "source": [
        "# 乱数シード固定\n",
        "\n",
        "def reset_seed(seed=42):\n",
        "    random.seed(seed)\n",
        "    np.random.seed(seed)\n",
        "    if chainer.cuda.available:\n",
        "        chainer.cuda.cupy.random.seed(seed)\n",
        "\n",
        "reset_seed(42)"
      ],
      "execution_count": 0,
      "outputs": []
    },
    {
      "metadata": {
        "id": "E-s5-1DO7bgE",
        "colab_type": "text"
      },
      "cell_type": "markdown",
      "source": [
        "8.2. 心電図(ECG)と不整脈診断について\n",
        "\n",
        "標準的な心電図は，手足からとる心電図（四肢誘導）として，双極誘導（Ⅰ，Ⅱ，Ⅲ），及び単極誘導（aVR，aVL，aVF）の6誘導，胸部からとる心電図（胸部誘導）として，V1，V2，V3，V4，V5，V6の6誘導，計12誘導から成ります．このうち，特に不整脈のスクリーニングを行う際には，Ⅱ誘導とV1誘導に注目して診断が行われるのが一般的とされています．\n",
        "\n",
        "心臓が正常な状態では，ECGにおいては規則的な波形が観測され，これを正常洞調律 (Normal sinus rhythm, NSR)といいます．\n",
        "\n",
        "具体的には，以下の3つの主要な波形で構成されており，\n",
        "\n",
        "P波：心房の脱分極（心房の興奮）\n",
        "\n",
        "QRS波：心室の脱分極（心室の興奮）\n",
        "\n",
        "T波：心室の再分極（心室興奮の収まり）"
      ]
    },
    {
      "metadata": {
        "id": "LNmzDW_273cm",
        "colab_type": "code",
        "colab": {}
      },
      "cell_type": "code",
      "source": [
        "# 8.3. 使用するデータセット\n",
        "# 47名の患者から収集した48レコードが登録されており，各レコードファイルには約30分間の2誘導(II，V1)のシグナルデータが格納されています．\n",
        "# また，各R波のピーク位置に対してアノテーションが付与されています．\n",
        "\n",
        "dataset_root = './dataset'\n",
        "download_dir = os.path.join(dataset_root, 'download')\n"
      ],
      "execution_count": 0,
      "outputs": []
    },
    {
      "metadata": {
        "id": "pa32n6kv7C-r",
        "colab_type": "code",
        "colab": {
          "base_uri": "https://localhost:8080/",
          "height": 68
        },
        "outputId": "a85d7577-fa99-4980-cec9-84803a5feffc"
      },
      "cell_type": "code",
      "source": [
        "  wfdb.dl_database('mitdb/', dl_dir=download_dir)\n",
        " # wget -r -np http://physionet.org/physiobank/database/mitdb/\n"
      ],
      "execution_count": 17,
      "outputs": [
        {
          "output_type": "stream",
          "text": [
            "Created local base download directory: ./dataset/download\n",
            "Downloading files...\n",
            "Finished downloading files\n"
          ],
          "name": "stdout"
        }
      ]
    },
    {
      "metadata": {
        "id": "XiK2o0U88jsR",
        "colab_type": "code",
        "colab": {
          "base_uri": "https://localhost:8080/",
          "height": 74
        },
        "outputId": "7c17cb28-84af-4568-ccc1-029b32782b76"
      },
      "cell_type": "code",
      "source": [
        "print(sorted(os.listdir(download_dir)))"
      ],
      "execution_count": 18,
      "outputs": [
        {
          "output_type": "stream",
          "text": [
            "['100.atr', '100.dat', '100.hea', '101.atr', '101.dat', '101.hea', '102.atr', '102.dat', '102.hea', '103.atr', '103.dat', '103.hea', '104.atr', '104.dat', '104.hea', '105.atr', '105.dat', '105.hea', '106.atr', '106.dat', '106.hea', '107.atr', '107.dat', '107.hea', '108.atr', '108.dat', '108.hea', '109.atr', '109.dat', '109.hea', '111.atr', '111.dat', '111.hea', '112.atr', '112.dat', '112.hea', '113.atr', '113.dat', '113.hea', '114.atr', '114.dat', '114.hea', '115.atr', '115.dat', '115.hea', '116.atr', '116.dat', '116.hea', '117.atr', '117.dat', '117.hea', '118.atr', '118.dat', '118.hea', '119.atr', '119.dat', '119.hea', '121.atr', '121.dat', '121.hea', '122.atr', '122.dat', '122.hea', '123.atr', '123.dat', '123.hea', '124.atr', '124.dat', '124.hea', '200.atr', '200.dat', '200.hea', '201.atr', '201.dat', '201.hea', '202.atr', '202.dat', '202.hea', '203.atr', '203.dat', '203.hea', '205.atr', '205.dat', '205.hea', '207.atr', '207.dat', '207.hea', '208.atr', '208.dat', '208.hea', '209.atr', '209.dat', '209.hea', '210.atr', '210.dat', '210.hea', '212.atr', '212.dat', '212.hea', '213.atr', '213.dat', '213.hea', '214.atr', '214.dat', '214.hea', '215.atr', '215.dat', '215.hea', '217.atr', '217.dat', '217.hea', '219.atr', '219.dat', '219.hea', '220.atr', '220.dat', '220.hea', '221.atr', '221.dat', '221.hea', '222.atr', '222.dat', '222.hea', '223.atr', '223.dat', '223.hea', '228.atr', '228.dat', '228.hea', '230.atr', '230.dat', '230.hea', '231.atr', '231.dat', '231.hea', '232.atr', '232.dat', '232.hea', '233.atr', '233.dat', '233.hea', '234.atr', '234.dat', '234.hea']\n"
          ],
          "name": "stdout"
        }
      ]
    },
    {
      "metadata": {
        "id": "tANtyqeiAQzi",
        "colab_type": "text"
      },
      "cell_type": "markdown",
      "source": [
        "ファイル名の数字はレコードIDを表しています．各レコードには3種類のファイルがあり，\n",
        "\n",
        ".dat : シグナル（バイナリ形式）\n",
        ".atr : アノテーション（バイナリ形式）\n",
        ".hea : ヘッダ（バイナリファイルの読み込みに必要）\n",
        "\n"
      ]
    },
    {
      "metadata": {
        "id": "5S5tBEAVAKkK",
        "colab_type": "code",
        "colab": {}
      },
      "cell_type": "code",
      "source": [
        "# 8.4. データ前処理\n"
      ],
      "execution_count": 0,
      "outputs": []
    },
    {
      "metadata": {
        "id": "9HIiD8TKAnjE",
        "colab_type": "text"
      },
      "cell_type": "markdown",
      "source": [
        "本節では，以下の手順で前処理を行います．\n",
        "\n",
        "1.レコードIDを事前に 学習用 / 評価用 に分割\n",
        "48レコードのうち，\n",
        "ID =（102, 104, 107, 217）のシグナルはペースメーカーの拍動が含まれるため除外します．\n",
        "ID = 114のシグナルは波形の一部が反転しているため，今回は除外します．\n",
        "ID = （201, 202）は同一の患者から得られたデータのため，202を除外します．\n",
        "上記を除く計42レコードを，学習用とテスト用に分割します（分割方法は[文献3]を参考）．\n",
        "\n",
        "2.シグナルファイル (.dat) の読み込み\n",
        "Ⅱ誘導シグナルとV1誘導シグナルが格納されていますが，今回はⅡ誘導のみ利用します．\n",
        "サンプリング周波数は360 Hz なので，1秒間に360回のペースで数値が記録されていることになります．\n",
        "\n",
        "3.アノテーションファイル (.atr) の読み込み\n",
        "各R波ピークの位置 (positions) と，そのラベル (symbols) を取得します．\n",
        "\n",
        "4.シグナルの正規化\n",
        "平均0，分散1になるように変換を行います．\n",
        "\n",
        "5.シグナルの分割 (segmentation)\n",
        "各R波ピークを中心として2秒間(前後1秒ずつ)の断片を切り出していきます．\n",
        "\n",
        "6.分割シグナルへのラベル付与\n",
        "各R波ピークに付与されているラベルを，下表(※)に従って集約し，今回の解析では正常拍動 (Normal)，及び心室異所性拍動 (VEB) に対応するラベルが付与されている分割シグナルのみ学習・評価に利用します．\n"
      ]
    },
    {
      "metadata": {
        "id": "KIG5T_syAvHy",
        "colab_type": "code",
        "colab": {}
      },
      "cell_type": "code",
      "source": [
        "class BaseECGDatasetPreprocessor(object):\n",
        "\n",
        "    def __init__(\n",
        "            self,\n",
        "            dataset_root,\n",
        "            window_size=720,  # 2 seconds\n",
        "    ):\n",
        "        self.dataset_root = dataset_root\n",
        "        self.download_dir = os.path.join(self.dataset_root, 'download')\n",
        "        self.window_size = window_size\n",
        "        self.sample_rate = 360.\n",
        "        # split list\n",
        "        self.train_record_list = [\n",
        "            '101', '106', '108', '109', '112', '115', '116', '118', '119', '122',\n",
        "            '124', '201', '203', '205', '207', '208', '209', '215', '220', '223', '230'\n",
        "        ]\n",
        "        self.test_record_list = [\n",
        "            '100', '103', '105', '111', '113', '117', '121', '123', '200', '210',\n",
        "            '212', '213', '214', '219', '221', '222', '228', '231', '232', '233', '234'\n",
        "        ]\n",
        "        # annotation\n",
        "        self.labels = ['N', 'V']\n",
        "        self.valid_symbols = ['N', 'L', 'R', 'e', 'j', 'V', 'E']\n",
        "        self.label_map = {\n",
        "            'N': 'N', 'L': 'N', 'R': 'N', 'e': 'N', 'j': 'N',\n",
        "            'V': 'V', 'E': 'V'\n",
        "        }\n",
        "\n",
        "    def _load_data(\n",
        "            self,\n",
        "            base_record,\n",
        "            channel=0  # [0, 1]\n",
        "    ):\n",
        "        record_name = os.path.join(self.download_dir, str(base_record))\n",
        "        # read dat file\n",
        "        signals, fields = wfdb.rdsamp(record_name)\n",
        "        assert fields['fs'] == self.sample_rate\n",
        "        # read annotation file\n",
        "        annotation = wfdb.rdann(record_name, 'atr')\n",
        "        symbols = annotation.symbol\n",
        "        positions = annotation.sample\n",
        "        return signals[:, channel], symbols, positions\n",
        "\n",
        "    def _normalize_signal(\n",
        "            self,\n",
        "            signal,\n",
        "            method='std'\n",
        "    ):\n",
        "        if method == 'minmax':\n",
        "            # Min-Max scaling\n",
        "            min_val = np.min(signal)\n",
        "            max_val = np.max(signal)\n",
        "            return (signal - min_val) / (max_val - min_val)\n",
        "        elif method == 'std':\n",
        "            # Zero mean and unit variance\n",
        "            signal = (signal - np.mean(signal)) / np.std(signal)\n",
        "            return signal\n",
        "        else:\n",
        "            raise ValueError(\"Invalid method: {}\".format(method))\n",
        "\n",
        "    def _segment_data(\n",
        "            self,\n",
        "            signal,\n",
        "            symbols,\n",
        "            positions\n",
        "    ):\n",
        "        X = []\n",
        "        y = []\n",
        "        sig_len = len(signal)\n",
        "        for i in range(len(symbols)):\n",
        "            start = positions[i] - self.window_size // 2\n",
        "            end = positions[i] + self.window_size // 2\n",
        "            if symbols[i] in self.valid_symbols and start >= 0 and end <= sig_len:\n",
        "                segment = signal[start:end]\n",
        "                assert len(segment) == self.window_size, \"Invalid length\"\n",
        "                X.append(segment)\n",
        "                y.append(self.labels.index(self.label_map[symbols[i]]))\n",
        "        return np.array(X), np.array(y)\n",
        "\n",
        "    def preprocess_dataset(\n",
        "            self,\n",
        "            normalize=True\n",
        "    ):\n",
        "        # preprocess training dataset\n",
        "        self._preprocess_dataset_core(self.train_record_list, \"train\", normalize)\n",
        "        # preprocess test dataset\n",
        "        self._preprocess_dataset_core(self.test_record_list, \"test\", normalize)\n",
        "\n",
        "    def _preprocess_dataset_core(\n",
        "            self,\n",
        "            record_list,\n",
        "            mode=\"train\",\n",
        "            normalize=True\n",
        "    ):\n",
        "        Xs, ys = [], []\n",
        "        save_dir = os.path.join(self.dataset_root, 'preprocessed', mode)\n",
        "        for i in range(len(record_list)):\n",
        "            signal, symbols, positions = self._load_data(record_list[i])\n",
        "            if normalize:\n",
        "                signal = self._normalize_signal(signal)\n",
        "            X, y = self._segment_data(signal, symbols, positions)\n",
        "            Xs.append(X)\n",
        "            ys.append(y)\n",
        "        os.makedirs(save_dir, exist_ok=True)\n",
        "        np.save(os.path.join(save_dir, \"X.npy\"), np.vstack(Xs))\n",
        "        np.save(os.path.join(save_dir, \"y.npy\"), np.concatenate(ys))\n",
        "\n"
      ],
      "execution_count": 0,
      "outputs": []
    },
    {
      "metadata": {
        "id": "kbfoepW7BLYk",
        "colab_type": "code",
        "colab": {}
      },
      "cell_type": "code",
      "source": [
        "BaseECGDatasetPreprocessor(dataset_root).preprocess_dataset()"
      ],
      "execution_count": 0,
      "outputs": []
    },
    {
      "metadata": {
        "id": "-HPqlIOdBQCL",
        "colab_type": "code",
        "colab": {
          "base_uri": "https://localhost:8080/",
          "height": 199
        },
        "outputId": "678673b9-339b-4a2a-8b81-dfd0113f41b4"
      },
      "cell_type": "code",
      "source": [
        "# train/X.npy : 学習用シグナル\n",
        "# train/y.npy : 学習用ラベル\n",
        "# test/X.npy : 評価用シグナル\n",
        "# test/y.npy : 評価用ラベル\n",
        "\n",
        "!tree ./dataset/preprocessed\n"
      ],
      "execution_count": 21,
      "outputs": [
        {
          "output_type": "stream",
          "text": [
            "./dataset/preprocessed\n",
            "├── test\n",
            "│   ├── X.npy\n",
            "│   └── y.npy\n",
            "└── train\n",
            "    ├── X.npy\n",
            "    └── y.npy\n",
            "\n",
            "2 directories, 4 files\n"
          ],
          "name": "stdout"
        }
      ]
    },
    {
      "metadata": {
        "id": "XcoVCHUrBejh",
        "colab_type": "code",
        "colab": {}
      },
      "cell_type": "code",
      "source": [
        "X_train = np.load(os.path.join(dataset_root, 'preprocessed', 'train', 'X.npy'))\n",
        "y_train = np.load(os.path.join(dataset_root, 'preprocessed', 'train', 'y.npy'))\n",
        "X_test = np.load(os.path.join(dataset_root, 'preprocessed', 'test', 'X.npy'))\n",
        "y_test = np.load(os.path.join(dataset_root, 'preprocessed', 'test', 'y.npy'))\n"
      ],
      "execution_count": 0,
      "outputs": []
    },
    {
      "metadata": {
        "id": "pDWCw66nGkfG",
        "colab_type": "code",
        "colab": {
          "base_uri": "https://localhost:8080/",
          "height": 51
        },
        "outputId": "1eb17d5d-e5ed-4d8c-e3b9-3c0787bc4314"
      },
      "cell_type": "code",
      "source": [
        "print(\"X_train.shape = \", X_train.shape, \" \\t y_train.shape = \", y_train.shape)\n",
        "print(\"X_test.shape = \", X_test.shape, \" \\t y_test.shape = \", y_test.shape)"
      ],
      "execution_count": 23,
      "outputs": [
        {
          "output_type": "stream",
          "text": [
            "X_train.shape =  (47738, 720)  \t y_train.shape =  (47738,)\n",
            "X_test.shape =  (45349, 720)  \t y_test.shape =  (45349,)\n"
          ],
          "name": "stdout"
        }
      ]
    },
    {
      "metadata": {
        "id": "haStqWicGqhQ",
        "colab_type": "code",
        "colab": {
          "base_uri": "https://localhost:8080/",
          "height": 34
        },
        "outputId": "88b5174f-69b8-4d6c-a77d-235002ea6db1"
      },
      "cell_type": "code",
      "source": [
        "uniq_train, counts_train = np.unique(y_train, return_counts=True)\n",
        "print(\"y_train count each labels: \", dict(zip(uniq_train, counts_train)))\n"
      ],
      "execution_count": 24,
      "outputs": [
        {
          "output_type": "stream",
          "text": [
            "y_train count each labels:  {0: 43995, 1: 3743}\n"
          ],
          "name": "stdout"
        }
      ]
    },
    {
      "metadata": {
        "id": "mcOlKy1aG2N2",
        "colab_type": "code",
        "colab": {
          "base_uri": "https://localhost:8080/",
          "height": 34
        },
        "outputId": "6e9c1fdb-bb67-4b15-dcb6-646e6c6314b1"
      },
      "cell_type": "code",
      "source": [
        "uniq_test, counts_test = np.unique(y_test, return_counts=True)\n",
        "print(\"y_test count each labels: \", dict(zip(uniq_test, counts_test)))\n"
      ],
      "execution_count": 25,
      "outputs": [
        {
          "output_type": "stream",
          "text": [
            "y_test count each labels:  {0: 42149, 1: 3200}\n"
          ],
          "name": "stdout"
        }
      ]
    },
    {
      "metadata": {
        "id": "1fQFrM3PG6E8",
        "colab_type": "code",
        "colab": {}
      },
      "cell_type": "code",
      "source": [
        "# 正常拍動，及びVEBのシグナルデータを可視化\n",
        "%matplotlib inline\n",
        "import matplotlib.pyplot as plt"
      ],
      "execution_count": 0,
      "outputs": []
    },
    {
      "metadata": {
        "id": "GEbNese_HPAi",
        "colab_type": "code",
        "colab": {
          "base_uri": "https://localhost:8080/",
          "height": 282
        },
        "outputId": "cab427ac-3ad0-4a65-9cdc-82436f884ee6"
      },
      "cell_type": "code",
      "source": [
        "# P波 - QRS波 - T波が規則的に出現していることが確認できます．\n",
        "idx_n = np.where(y_train == 0)[0]\n",
        "plt.plot(X_train[idx_n[0]])"
      ],
      "execution_count": 27,
      "outputs": [
        {
          "output_type": "execute_result",
          "data": {
            "text/plain": [
              "[<matplotlib.lines.Line2D at 0x7f43239b4828>]"
            ]
          },
          "metadata": {
            "tags": []
          },
          "execution_count": 27
        },
        {
          "output_type": "display_data",
          "data": {
            "image/png": "[encoded data removed]",
            "text/plain": [
              "<Figure size 432x288 with 1 Axes>"
            ]
          },
          "metadata": {
            "tags": []
          }
        }
      ]
    },
    {
      "metadata": {
        "id": "mCuIMJc-HYJx",
        "colab_type": "code",
        "colab": {
          "base_uri": "https://localhost:8080/",
          "height": 282
        },
        "outputId": "39f66c46-b196-4c06-df2d-1dc56f15c3a1"
      },
      "cell_type": "code",
      "source": [
        "# 1 : 心室異所性拍動 (VEB)\n",
        "\n",
        "idx_s = np.where(y_train == 1)[0]\n",
        "plt.plot(X_train[idx_s[0]])"
      ],
      "execution_count": 28,
      "outputs": [
        {
          "output_type": "execute_result",
          "data": {
            "text/plain": [
              "[<matplotlib.lines.Line2D at 0x7f42d0e009e8>]"
            ]
          },
          "metadata": {
            "tags": []
          },
          "execution_count": 28
        },
        {
          "output_type": "display_data",
          "data": {
            "image/png": "[encoded data removed]",
            "text/plain": [
              "<Figure size 432x288 with 1 Axes>"
            ]
          },
          "metadata": {
            "tags": []
          }
        }
      ]
    },
    {
      "metadata": {
        "id": "88rAAFkkHkEo",
        "colab_type": "code",
        "colab": {}
      },
      "cell_type": "code",
      "source": [
        "# 8.5. 深層学習を用いた時系列データ解析\n",
        "\n",
        "class ECGDataset(chainer.dataset.DatasetMixin):\n",
        "\n",
        "    def __init__(\n",
        "            self,\n",
        "            path\n",
        "    ):\n",
        "        if os.path.isfile(os.path.join(path, 'X.npy')):\n",
        "            self.X = np.load(os.path.join(path, 'X.npy'))\n",
        "        else:\n",
        "            raise FileNotFoundError(\"{}/X.npy not found.\".format(path))\n",
        "        if os.path.isfile(os.path.join(path, 'y.npy')):\n",
        "            self.y = np.load(os.path.join(path, 'y.npy'))\n",
        "        else:\n",
        "            raise FileNotFoundError(\"{}/y.npy not found.\".format(path))\n",
        "\n",
        "    def __len__(self):\n",
        "        return len(self.X)\n",
        "\n",
        "    def get_example(self, i):\n",
        "        return self.X[None, i].astype(np.float32), self.y[i]\n"
      ],
      "execution_count": 0,
      "outputs": []
    },
    {
      "metadata": {
        "id": "U9Xmzy1CIF1n",
        "colab_type": "code",
        "colab": {}
      },
      "cell_type": "code",
      "source": [
        "import chainer.functions as F\n",
        "import chainer.links as L\n",
        "from chainer import reporter\n",
        "from chainer import Variable\n",
        "\n",
        "\n",
        "class BaseBlock(chainer.Chain):\n",
        "\n",
        "    def __init__(\n",
        "            self,\n",
        "            channels,\n",
        "            stride=1,\n",
        "            dilate=1\n",
        "    ):\n",
        "        self.stride = stride\n",
        "        super(BaseBlock, self).__init__()\n",
        "        with self.init_scope():\n",
        "            self.c1 = L.ConvolutionND(1, None, channels, 3, stride, dilate, dilate=dilate)\n",
        "            self.c2 = L.ConvolutionND(1, None, channels, 3, 1, dilate, dilate=dilate)\n",
        "            if stride > 1:\n",
        "                self.cd = L.ConvolutionND(1, None, channels, 1, stride, 0)\n",
        "            self.b1 = L.BatchNormalization(channels)\n",
        "            self.b2 = L.BatchNormalization(channels)\n",
        "\n",
        "    def __call__(self, x):\n",
        "        h = F.relu(self.b1(self.c1(x)))\n",
        "        if self.stride > 1:\n",
        "            res = self.cd(x)\n",
        "        else:\n",
        "            res = x\n",
        "        h = res + self.b2(self.c2(h))\n",
        "        return F.relu(h)\n",
        "\n",
        "\n",
        "class ResBlock(chainer.Chain):\n",
        "\n",
        "    def __init__(\n",
        "            self,\n",
        "            channels,\n",
        "            n_block,\n",
        "            dilate=1\n",
        "    ):\n",
        "        self.n_block = n_block\n",
        "        super(ResBlock, self).__init__()\n",
        "        with self.init_scope():\n",
        "            self.b0 = BaseBlock(channels, 2, dilate)\n",
        "            for i in range(1, n_block):\n",
        "                bx = BaseBlock(channels, 1, dilate)\n",
        "                setattr(self, 'b{}'.format(str(i)), bx)\n",
        "\n",
        "    def __call__(self, x):\n",
        "        h = self.b0(x)\n",
        "        for i in range(1, self.n_block):\n",
        "            h = getattr(self, 'b{}'.format(str(i)))(h)\n",
        "        return h\n",
        "\n",
        "\n",
        "class ResNet34(chainer.Chain):\n",
        "\n",
        "    def __init__(self):\n",
        "        super(ResNet34, self).__init__()\n",
        "        with self.init_scope():\n",
        "            self.conv1 = L.ConvolutionND(1, None, 64, 7, 2, 3)\n",
        "            self.bn1 = L.BatchNormalization(64)\n",
        "            self.resblock0 = ResBlock(64, 3)\n",
        "            self.resblock1 = ResBlock(128, 4)\n",
        "            self.resblock2 = ResBlock(256, 6)\n",
        "            self.resblock3 = ResBlock(512, 3)\n",
        "            self.fc = L.Linear(None, 2)\n",
        "\n",
        "    def __call__(self, x):\n",
        "        h = F.relu(self.bn1(self.conv1(x)))\n",
        "        h = F.max_pooling_nd(h, 3, 2)\n",
        "        for i in range(4):\n",
        "            h = getattr(self, 'resblock{}'.format(str(i)))(h)\n",
        "        h = F.average(h, axis=2)\n",
        "        h = self.fc(h)\n",
        "        return h\n",
        "\n",
        "\n",
        "class Classifier(chainer.Chain):\n",
        "\n",
        "    def __init__(\n",
        "            self,\n",
        "            predictor,\n",
        "            lossfun=F.softmax_cross_entropy\n",
        "    ):\n",
        "        super(Classifier, self).__init__()\n",
        "        with self.init_scope():\n",
        "            self.predictor = predictor\n",
        "            self.lossfun = lossfun\n",
        "\n",
        "    def __call__(self, *args):\n",
        "        assert len(args) >= 2\n",
        "        x = args[:-1]\n",
        "        t = args[-1]\n",
        "        y = self.predictor(*x)\n",
        "\n",
        "        # loss\n",
        "        loss = self.lossfun(y, t)\n",
        "        with chainer.no_backprop_mode():\n",
        "            # other metrics\n",
        "            accuracy = F.accuracy(y, t)\n",
        "        # reporter\n",
        "        reporter.report({'loss': loss}, self)\n",
        "        reporter.report({'accuracy': accuracy}, self)\n",
        "\n",
        "        return loss\n",
        "\n",
        "    def predict(self, x):\n",
        "        with chainer.function.no_backprop_mode(), chainer.using_config('train', False):\n",
        "            x = Variable(self.xp.asarray(x, dtype=self.xp.float32))\n",
        "            y = self.predictor(x)\n",
        "            return y"
      ],
      "execution_count": 0,
      "outputs": []
    },
    {
      "metadata": {
        "id": "ftX4C-mpIZpF",
        "colab_type": "code",
        "colab": {}
      },
      "cell_type": "code",
      "source": [
        "# create_train_dataset()：学習用データセットを ECGDataset クラスに渡す\n",
        "# create_trainer()：学習に必要な設定を行い，Trainerオブジェクトを作成\n",
        "\n",
        "from chainer import optimizers\n",
        "from chainer.optimizer import WeightDecay\n",
        "from chainer.iterators import MultiprocessIterator\n",
        "from chainer import training\n",
        "from chainer.training import extensions\n",
        "from chainer.training import triggers\n",
        "from chainer.backends.cuda import get_device_from_id\n",
        "\n",
        "\n",
        "def create_train_dataset(root_path):\n",
        "    train_path = os.path.join(root_path, 'preprocessed', 'train')\n",
        "    train_dataset = ECGDataset(train_path)\n",
        "\n",
        "    return train_dataset\n",
        "\n",
        "\n",
        "def create_trainer(\n",
        "    batchsize, train_dataset, nb_epoch=1,\n",
        "    device=0, lossfun=F.softmax_cross_entropy\n",
        "):\n",
        "    # setup model\n",
        "    model = ResNet34()\n",
        "    train_model = Classifier(model, lossfun=lossfun)\n",
        "\n",
        "    # use Adam optimizer\n",
        "    optimizer = optimizers.Adam(alpha=0.001)\n",
        "    optimizer.setup(train_model)\n",
        "    optimizer.add_hook(WeightDecay(0.0001))\n",
        "\n",
        "    # setup iterator\n",
        "    train_iter = MultiprocessIterator(train_dataset, batchsize)\n",
        "\n",
        "    # define updater\n",
        "    updater = training.StandardUpdater(train_iter, optimizer, device=device)\n",
        "\n",
        "    # setup trainer\n",
        "    stop_trigger = (nb_epoch, 'epoch')\n",
        "    trainer = training.trainer.Trainer(updater, stop_trigger)\n",
        "    logging_attributes = [\n",
        "        'epoch', 'iteration',\n",
        "        'main/loss', 'main/accuracy'\n",
        "    ]\n",
        "    trainer.extend(\n",
        "        extensions.LogReport(logging_attributes, trigger=(2000 // batchsize, 'iteration'))\n",
        "    )\n",
        "    trainer.extend(\n",
        "        extensions.PrintReport(logging_attributes)\n",
        "    )\n",
        "    trainer.extend(\n",
        "        extensions.ExponentialShift('alpha', 0.75, optimizer=optimizer),\n",
        "        trigger=(4000 // batchsize, 'iteration')\n",
        "    )\n",
        "\n",
        "    return trainer"
      ],
      "execution_count": 0,
      "outputs": []
    },
    {
      "metadata": {
        "id": "iJ_FC-q9IrDi",
        "colab_type": "code",
        "colab": {}
      },
      "cell_type": "code",
      "source": [
        "train_dataset = create_train_dataset(dataset_root)"
      ],
      "execution_count": 0,
      "outputs": []
    },
    {
      "metadata": {
        "id": "gnvF1qbSIy4R",
        "colab_type": "code",
        "colab": {}
      },
      "cell_type": "code",
      "source": [
        "\n",
        "trainer = create_trainer(256, train_dataset, nb_epoch=1, device=0)"
      ],
      "execution_count": 0,
      "outputs": []
    },
    {
      "metadata": {
        "id": "AN4X1qwiI4nh",
        "colab_type": "code",
        "colab": {
          "base_uri": "https://localhost:8080/",
          "height": 510
        },
        "outputId": "8b61401e-d95d-496e-f08e-299ce264437f"
      },
      "cell_type": "code",
      "source": [
        "%time trainer.run()"
      ],
      "execution_count": 34,
      "outputs": [
        {
          "output_type": "stream",
          "text": [
            "epoch       iteration   main/loss   main/accuracy\n",
            "\u001b[J0           7           1.1307      0.868304       \n",
            "\u001b[J0           14          0.273237    0.923549       \n",
            "\u001b[J0           21          0.0950281   0.96596        \n",
            "\u001b[J0           28          0.058416    0.982701       \n",
            "\u001b[J0           35          0.0658751   0.982143       \n",
            "\u001b[J0           42          0.0506687   0.985491       \n",
            "\u001b[J0           49          0.057125    0.986607       \n",
            "\u001b[J0           56          0.063658    0.986607       \n",
            "\u001b[J0           63          0.0600915   0.981027       \n",
            "\u001b[J0           70          0.0391555   0.988281       \n",
            "\u001b[J0           77          0.0325103   0.991629       \n",
            "\u001b[J0           84          0.0344455   0.987723       \n",
            "\u001b[J0           91          0.0281526   0.989955       \n",
            "\u001b[J0           98          0.0266191   0.991629       \n",
            "\u001b[J0           105         0.0318078   0.990513       \n",
            "\u001b[J0           112         0.0304052   0.991071       \n",
            "\u001b[J0           119         0.0293185   0.993304       \n",
            "\u001b[J0           126         0.0290823   0.989397       \n",
            "\u001b[J0           133         0.019204    0.996094       \n",
            "\u001b[J0           140         0.0177221   0.994978       \n",
            "\u001b[J0           147         0.0218593   0.990513       \n",
            "\u001b[J0           154         0.019589    0.994978       \n",
            "\u001b[J0           161         0.0257332   0.991629       \n",
            "\u001b[J0           168         0.0155559   0.99442        \n",
            "\u001b[J0           175         0.0161097   0.99442        \n",
            "\u001b[J0           182         0.0212924   0.992746       \n",
            "CPU times: user 57 s, sys: 20.3 s, total: 1min 17s\n",
            "Wall time: 1min 17s\n"
          ],
          "name": "stdout"
        }
      ]
    },
    {
      "metadata": {
        "id": "yNXvSnYlI8tS",
        "colab_type": "code",
        "colab": {}
      },
      "cell_type": "code",
      "source": [
        "# 8.5.2. 評価\n",
        "# create_test_dataset() : 評価用データの読み込み\n",
        "# predict() : 推論を行い，結果の配列（正解ラベルと予測ラベル）を出力\n",
        "# print_confusion_matrix() : 予測結果から混同行列とよばれる表を出力\n",
        "# print_scores() : 予測結果から予測精度の評価指標を出力\n",
        "\n",
        "\n",
        "from chainer import cuda\n",
        "from sklearn.metrics import classification_report\n",
        "from sklearn.metrics import accuracy_score\n",
        "from sklearn.metrics import confusion_matrix\n",
        "\n",
        "\n",
        "def create_test_dataset(root_path):\n",
        "    test_path = os.path.join(root_path, 'preprocessed', 'test')\n",
        "    test_dataset = ECGDataset(test_path)\n",
        "    return test_dataset\n",
        "\n",
        "\n",
        "def predict(trainer, test_dataset, batchsize, device=-1):\n",
        "    model = trainer.updater.get_optimizer('main').target\n",
        "    ys = []\n",
        "    ts = []\n",
        "    for i in range(len(test_dataset) // batchsize + 1):\n",
        "        if i == len(test_dataset) // batchsize:\n",
        "            X, t = zip(*test_dataset[i*batchsize: len(test_dataset)])\n",
        "        else:\n",
        "            X, t = zip(*test_dataset[i*batchsize:(i+1)*batchsize])\n",
        "        X = cuda.to_gpu(np.array(X), device)\n",
        "        y = model.predict(X)\n",
        "        y = cuda.to_cpu(y.data.argmax(axis=1))\n",
        "        ys.append(y)\n",
        "        ts.append(np.array(t))\n",
        "    return np.concatenate(ts), np.concatenate(ys)\n",
        "\n",
        "\n",
        "def print_confusion_matrix(y_true, y_pred):\n",
        "    labels = sorted(list(set(y_true)))\n",
        "    target_names = ['Normal', 'VEB']\n",
        "    cmx = confusion_matrix(y_true, y_pred, labels=labels)\n",
        "    df_cmx = pd.DataFrame(cmx, index=target_names, columns=target_names)\n",
        "    plt.figure(figsize = (5,3))\n",
        "    sn.heatmap(df_cmx, annot=True, annot_kws={\"size\": 18}, fmt=\"d\", cmap='Blues')\n",
        "    plt.show()\n",
        "\n",
        "\n",
        "def print_scores(y_true, y_pred):\n",
        "    target_names = ['Normal', 'VEB']\n",
        "    print(classification_report(y_true, y_pred, target_names=target_names))\n",
        "    print(\"accuracy: \", accuracy_score(y_true, y_pred))\n"
      ],
      "execution_count": 0,
      "outputs": []
    },
    {
      "metadata": {
        "id": "1XEMRs_FJhZz",
        "colab_type": "code",
        "colab": {}
      },
      "cell_type": "code",
      "source": [
        "# 評価用データセットを用意\n",
        "test_dataset = create_test_dataset(dataset_root)"
      ],
      "execution_count": 0,
      "outputs": []
    },
    {
      "metadata": {
        "id": "0mYgOG4RJr4w",
        "colab_type": "code",
        "colab": {
          "base_uri": "https://localhost:8080/",
          "height": 51
        },
        "outputId": "c31f0b5b-023c-4d62-fa3f-1169b198269a"
      },
      "cell_type": "code",
      "source": [
        "# 評価用データに対して予測を行います\n",
        "%time y_true_test, y_pred_test = predict(trainer, test_dataset, 256, 0)"
      ],
      "execution_count": 37,
      "outputs": [
        {
          "output_type": "stream",
          "text": [
            "CPU times: user 12 s, sys: 4.96 s, total: 17 s\n",
            "Wall time: 17 s\n"
          ],
          "name": "stdout"
        }
      ]
    },
    {
      "metadata": {
        "id": "3VuAKg8QJ1If",
        "colab_type": "code",
        "colab": {
          "base_uri": "https://localhost:8080/",
          "height": 211
        },
        "outputId": "472f2261-b711-4306-e03e-25a815f6d365"
      },
      "cell_type": "code",
      "source": [
        "# 左上 : 実際に正常拍動であるサンプルが，正常拍動と予測された数\n",
        "# 右上 : 実際に正常拍動であるサンプルが，VEBと予測された数\n",
        "# 左下 : 実際にVEBであるサンプルが，正常と予測された数\n",
        "# 右下 : 実際にVEBであるサンプルが，VEBと予測された数\n",
        "\n",
        "\n",
        "print_confusion_matrix(y_true_test, y_pred_test)"
      ],
      "execution_count": 38,
      "outputs": [
        {
          "output_type": "display_data",
          "data": {
            "image/png": "[encoded data removed]",
            "text/plain": [
              "<Figure size 360x216 with 2 Axes>"
            ]
          },
          "metadata": {
            "tags": []
          }
        }
      ]
    },
    {
      "metadata": {
        "id": "kMYhVT5CKL0E",
        "colab_type": "code",
        "colab": {
          "base_uri": "https://localhost:8080/",
          "height": 187
        },
        "outputId": "69c80904-3bc5-493b-ec5d-50adc4459f4f"
      },
      "cell_type": "code",
      "source": [
        "# 適合率 (Precision) : それぞれの予測診断結果 (Normal or VEB) のうち，正しく診断できていた（正解も同じ診断結果であった）割合\n",
        "# 再現率 (Recall) : それぞれの正解診断結果 (Normal or VEB) のうち，正しく予測できていた（予測も同じ診断結果であった）割合\n",
        "# F1値 (F1-score) : 適合率と再現率の調和平均\n",
        "# 正解率 (Accuracy) : 全ての診断結果 (Normal and VEB) のうち，正しく予測できていた（予測も同じ診断結果であった）割合\n",
        "\n",
        "print_scores(y_true_test, y_pred_test)"
      ],
      "execution_count": 39,
      "outputs": [
        {
          "output_type": "stream",
          "text": [
            "              precision    recall  f1-score   support\n",
            "\n",
            "      Normal       0.99      0.94      0.96     42149\n",
            "         VEB       0.52      0.90      0.66      3200\n",
            "\n",
            "   micro avg       0.94      0.94      0.94     45349\n",
            "   macro avg       0.76      0.92      0.81     45349\n",
            "weighted avg       0.96      0.94      0.94     45349\n",
            "\n",
            "accuracy:  0.9351694634942336\n"
          ],
          "name": "stdout"
        }
      ]
    },
    {
      "metadata": {
        "id": "Xz253RnmKmkE",
        "colab_type": "code",
        "colab": {}
      },
      "cell_type": "code",
      "source": [
        "# 8.6. 精度向上に向けて"
      ],
      "execution_count": 0,
      "outputs": []
    },
    {
      "metadata": {
        "id": "OispCSa2L-4u",
        "colab_type": "code",
        "colab": {}
      },
      "cell_type": "code",
      "source": [
        ""
      ],
      "execution_count": 0,
      "outputs": []
    }
  ]
}